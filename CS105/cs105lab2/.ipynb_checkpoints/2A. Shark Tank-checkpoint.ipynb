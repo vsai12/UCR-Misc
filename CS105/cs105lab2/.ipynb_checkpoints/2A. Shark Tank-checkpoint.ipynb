{
 "cells": [
  {
   "cell_type": "markdown",
   "metadata": {
    "colab_type": "text",
    "id": "pB6X4Cs0ovvn"
   },
   "source": [
    "# Shark Tank\n",
    "\n",
    "_Shark Tank_ is a reality TV show. Contestants present their idea for a company to a panel of investors (a.k.a. \"sharks\"), who then decide whether or not to invest in that company.  The investors give a certain amount of money in exchange for a percentage stake in the company (\"equity\"). If you are not familiar with the show, you may want to watch part of an episode [here](https://www.youtube.com/watch?v=3VBmLGUDxWA) to get a sense of how it works.  You can also search for a clip on YouTube. \n",
    "\n",
    "The data that you will examine in this lab contains data about all contestants from the first 6 seasons of the show, including:\n",
    "- the name and industry of the proposed company\n",
    "- whether or not it was funded (i.e., the \"Deal\" column)\n",
    "- which sharks chose to invest in the venture (N.B. There are 7 regular sharks, not including \"Guest\". Each shark has a column in the data set, labeled by their last name.)\n",
    "- if funded, the amount of money the sharks put in and the percentage equity they got in return\n",
    "\n",
    "To earn full credit on this lab, you should:\n",
    "- use built-in `pandas` methods (like `.sum()` and `.max()`) instead of writing a for loop over a `DataFrame` or `Series`\n",
    "- use the split-apply-combine pattern wherever possible\n",
    "\n",
    "Of course, if you can't think of a vectorized solution, a `for` loop is still better than no solution at all!"
   ]
  },
  {
   "cell_type": "code",
   "execution_count": 1,
   "metadata": {
    "colab": {},
    "colab_type": "code",
    "id": "Us6oobKlovvp"
   },
   "outputs": [],
   "source": [
    "import pandas as pd"
   ]
  },
  {
   "cell_type": "markdown",
   "metadata": {
    "colab_type": "text",
    "id": "ngi3x0nmovvw"
   },
   "source": [
    "## Question 0. Getting and Cleaning the Data"
   ]
  },
  {
   "cell_type": "markdown",
   "metadata": {
    "colab_type": "text",
    "id": "qg5b6rHFovvw"
   },
   "source": [
    "The data is stored in the CSV file `sharktank.csv`. Read in the data into a Pandas `DataFrame`."
   ]
  },
  {
   "cell_type": "code",
   "execution_count": 2,
   "metadata": {
    "colab": {},
    "colab_type": "code",
    "id": "arHQniiLovvy"
   },
   "outputs": [],
   "source": [
    "df = pd.read_csv(\"sharktank.csv\")"
   ]
  },
  {
   "cell_type": "markdown",
   "metadata": {
    "colab_type": "text",
    "id": "Ie2pafAbovv3"
   },
   "source": [
    "There is one column for each of the sharks. A 1 indicates that they chose to invest in that company, while a missing value indicates that they did not choose to invest in that company. Notice that these missing values show up as NaNs when we read in the data. Fill in these missing values with zeros. Other columns may also contain NaNs; be careful not to fill those columns with zeros, or you may end up with strange results down the line."
   ]
  },
  {
   "cell_type": "code",
   "execution_count": 3,
   "metadata": {
    "colab": {},
    "colab_type": "code",
    "id": "w6KKp8u1ovv7"
   },
   "outputs": [],
   "source": [
    "df.loc[:,\"Corcoran\":\"Guest\"] = df.loc[:,\"Corcoran\":\"Guest\"].fillna(0)"
   ]
  },
  {
   "cell_type": "markdown",
   "metadata": {
    "colab_type": "text",
    "id": "jzFqjoaYovv_"
   },
   "source": [
    "Notice that Amount and Equity are currently being treated as categorical variables (`dtype: object`). Can you figure out why this is? Clean up these columns and cast them to numeric types (i.e., a `dtype` of `int` or `float`) because we'll need to perform mathematical operations on these columns."
   ]
  },
  {
   "cell_type": "code",
   "execution_count": 4,
   "metadata": {
    "colab": {},
    "colab_type": "code",
    "id": "HQjnkHrZovwA"
   },
   "outputs": [
    {
     "data": {
      "text/html": [
       "<div>\n",
       "<style scoped>\n",
       "    .dataframe tbody tr th:only-of-type {\n",
       "        vertical-align: middle;\n",
       "    }\n",
       "\n",
       "    .dataframe tbody tr th {\n",
       "        vertical-align: top;\n",
       "    }\n",
       "\n",
       "    .dataframe thead th {\n",
       "        text-align: right;\n",
       "    }\n",
       "</style>\n",
       "<table border=\"1\" class=\"dataframe\">\n",
       "  <thead>\n",
       "    <tr style=\"text-align: right;\">\n",
       "      <th></th>\n",
       "      <th>Season</th>\n",
       "      <th>No. in series</th>\n",
       "      <th>Company</th>\n",
       "      <th>Deal</th>\n",
       "      <th>Industry</th>\n",
       "      <th>Entrepreneur Gender</th>\n",
       "      <th>Amount</th>\n",
       "      <th>Equity</th>\n",
       "      <th>Corcoran</th>\n",
       "      <th>Cuban</th>\n",
       "      <th>Greiner</th>\n",
       "      <th>Herjavec</th>\n",
       "      <th>John</th>\n",
       "      <th>O'Leary</th>\n",
       "      <th>Harrington</th>\n",
       "      <th>Guest</th>\n",
       "      <th>Details / Notes</th>\n",
       "    </tr>\n",
       "  </thead>\n",
       "  <tbody>\n",
       "    <tr>\n",
       "      <th>0</th>\n",
       "      <td>1.0</td>\n",
       "      <td>1.0</td>\n",
       "      <td>Ava the Elephant</td>\n",
       "      <td>Yes</td>\n",
       "      <td>Healthcare</td>\n",
       "      <td>Female</td>\n",
       "      <td>50000.0</td>\n",
       "      <td>0.55</td>\n",
       "      <td>1.0</td>\n",
       "      <td>0.0</td>\n",
       "      <td>0.0</td>\n",
       "      <td>0.0</td>\n",
       "      <td>0.0</td>\n",
       "      <td>0.0</td>\n",
       "      <td>0.0</td>\n",
       "      <td>0.0</td>\n",
       "      <td>NaN</td>\n",
       "    </tr>\n",
       "    <tr>\n",
       "      <th>1</th>\n",
       "      <td>1.0</td>\n",
       "      <td>1.0</td>\n",
       "      <td>Mr. Tod's Pie Factory</td>\n",
       "      <td>Yes</td>\n",
       "      <td>Food and Beverage</td>\n",
       "      <td>Male</td>\n",
       "      <td>460000.0</td>\n",
       "      <td>0.50</td>\n",
       "      <td>1.0</td>\n",
       "      <td>0.0</td>\n",
       "      <td>0.0</td>\n",
       "      <td>0.0</td>\n",
       "      <td>1.0</td>\n",
       "      <td>0.0</td>\n",
       "      <td>0.0</td>\n",
       "      <td>0.0</td>\n",
       "      <td>NaN</td>\n",
       "    </tr>\n",
       "    <tr>\n",
       "      <th>2</th>\n",
       "      <td>1.0</td>\n",
       "      <td>1.0</td>\n",
       "      <td>Wispots</td>\n",
       "      <td>No</td>\n",
       "      <td>Business Services</td>\n",
       "      <td>Male</td>\n",
       "      <td>0.0</td>\n",
       "      <td>0.00</td>\n",
       "      <td>0.0</td>\n",
       "      <td>0.0</td>\n",
       "      <td>0.0</td>\n",
       "      <td>0.0</td>\n",
       "      <td>0.0</td>\n",
       "      <td>0.0</td>\n",
       "      <td>0.0</td>\n",
       "      <td>0.0</td>\n",
       "      <td>NaN</td>\n",
       "    </tr>\n",
       "    <tr>\n",
       "      <th>3</th>\n",
       "      <td>1.0</td>\n",
       "      <td>1.0</td>\n",
       "      <td>College Foxes Packing Boxes</td>\n",
       "      <td>No</td>\n",
       "      <td>Lifestyle / Home</td>\n",
       "      <td>Male</td>\n",
       "      <td>0.0</td>\n",
       "      <td>0.00</td>\n",
       "      <td>0.0</td>\n",
       "      <td>0.0</td>\n",
       "      <td>0.0</td>\n",
       "      <td>0.0</td>\n",
       "      <td>0.0</td>\n",
       "      <td>0.0</td>\n",
       "      <td>0.0</td>\n",
       "      <td>0.0</td>\n",
       "      <td>NaN</td>\n",
       "    </tr>\n",
       "    <tr>\n",
       "      <th>4</th>\n",
       "      <td>1.0</td>\n",
       "      <td>1.0</td>\n",
       "      <td>Ionic Ear</td>\n",
       "      <td>No</td>\n",
       "      <td>Uncertain / Other</td>\n",
       "      <td>Male</td>\n",
       "      <td>0.0</td>\n",
       "      <td>0.00</td>\n",
       "      <td>0.0</td>\n",
       "      <td>0.0</td>\n",
       "      <td>0.0</td>\n",
       "      <td>0.0</td>\n",
       "      <td>0.0</td>\n",
       "      <td>0.0</td>\n",
       "      <td>0.0</td>\n",
       "      <td>0.0</td>\n",
       "      <td>NaN</td>\n",
       "    </tr>\n",
       "  </tbody>\n",
       "</table>\n",
       "</div>"
      ],
      "text/plain": [
       "   Season  No. in series                      Company Deal           Industry  \\\n",
       "0     1.0            1.0             Ava the Elephant  Yes         Healthcare   \n",
       "1     1.0            1.0        Mr. Tod's Pie Factory  Yes  Food and Beverage   \n",
       "2     1.0            1.0                      Wispots   No  Business Services   \n",
       "3     1.0            1.0  College Foxes Packing Boxes   No   Lifestyle / Home   \n",
       "4     1.0            1.0                    Ionic Ear   No  Uncertain / Other   \n",
       "\n",
       "  Entrepreneur Gender    Amount  Equity  Corcoran  Cuban  Greiner  Herjavec  \\\n",
       "0              Female   50000.0    0.55       1.0    0.0      0.0       0.0   \n",
       "1                Male  460000.0    0.50       1.0    0.0      0.0       0.0   \n",
       "2                Male       0.0    0.00       0.0    0.0      0.0       0.0   \n",
       "3                Male       0.0    0.00       0.0    0.0      0.0       0.0   \n",
       "4                Male       0.0    0.00       0.0    0.0      0.0       0.0   \n",
       "\n",
       "   John  O'Leary  Harrington  Guest Details / Notes  \n",
       "0   0.0      0.0         0.0    0.0             NaN  \n",
       "1   1.0      0.0         0.0    0.0             NaN  \n",
       "2   0.0      0.0         0.0    0.0             NaN  \n",
       "3   0.0      0.0         0.0    0.0             NaN  \n",
       "4   0.0      0.0         0.0    0.0             NaN  "
      ]
     },
     "execution_count": 4,
     "metadata": {},
     "output_type": "execute_result"
    }
   ],
   "source": [
    "df[\"Amount\"] = df[\"Amount\"].str.replace(r\"\\D\", \"\", regex=True)\n",
    "df[\"Amount\"] = pd.to_numeric(df[\"Amount\"], errors= \"coerce\")\n",
    "df[\"Equity\"] = df[\"Equity\"].str.replace(r\"\\D\", \"\", regex=True)\n",
    "df[\"Equity\"] = pd.to_numeric(df[\"Equity\"], errors= \"coerce\")\n",
    "df.loc[:,\"Amount\":\"Equity\"] = df.loc[:,\"Amount\":\"Equity\"].fillna(0)\n",
    "df[\"Equity\"] /= 100\n",
    "df.head()"
   ]
  },
  {
   "cell_type": "markdown",
   "metadata": {
    "colab_type": "text",
    "id": "MY8G1ZuRovwE"
   },
   "source": [
    "## Question 1. Which Company was Worth the Most?"
   ]
  },
  {
   "cell_type": "markdown",
   "metadata": {
    "colab_type": "text",
    "id": "VuyDKd9LovwE"
   },
   "source": [
    "The valuation of a company is how much it is worth. If someone invests \\\\$10,000 for a 40\\% equity stake in the company, then this means the company must be valued at \\$25,000, since 40% of \\\\$25,000 is \\\\$10,000.\n",
    "\n",
    "Calculate the valuation of each company that was funded. Which company was most valuable? Is it the same as the company that received the largest total investment from the sharks?"
   ]
  },
  {
   "cell_type": "code",
   "execution_count": 5,
   "metadata": {
    "colab": {},
    "colab_type": "code",
    "id": "9_mHDH2novwF"
   },
   "outputs": [
    {
     "data": {
      "text/html": [
       "<div>\n",
       "<style scoped>\n",
       "    .dataframe tbody tr th:only-of-type {\n",
       "        vertical-align: middle;\n",
       "    }\n",
       "\n",
       "    .dataframe tbody tr th {\n",
       "        vertical-align: top;\n",
       "    }\n",
       "\n",
       "    .dataframe thead th {\n",
       "        text-align: right;\n",
       "    }\n",
       "</style>\n",
       "<table border=\"1\" class=\"dataframe\">\n",
       "  <thead>\n",
       "    <tr style=\"text-align: right;\">\n",
       "      <th></th>\n",
       "      <th>Season</th>\n",
       "      <th>No. in series</th>\n",
       "      <th>Company</th>\n",
       "      <th>Deal</th>\n",
       "      <th>Industry</th>\n",
       "      <th>Entrepreneur Gender</th>\n",
       "      <th>Amount</th>\n",
       "      <th>Equity</th>\n",
       "      <th>Corcoran</th>\n",
       "      <th>Cuban</th>\n",
       "      <th>Greiner</th>\n",
       "      <th>Herjavec</th>\n",
       "      <th>John</th>\n",
       "      <th>O'Leary</th>\n",
       "      <th>Harrington</th>\n",
       "      <th>Guest</th>\n",
       "      <th>Details / Notes</th>\n",
       "      <th>Valuation</th>\n",
       "    </tr>\n",
       "  </thead>\n",
       "  <tbody>\n",
       "    <tr>\n",
       "      <th>421</th>\n",
       "      <td>6.0</td>\n",
       "      <td>11.0</td>\n",
       "      <td>Zipz</td>\n",
       "      <td>Yes</td>\n",
       "      <td>Food and Beverage</td>\n",
       "      <td>Male</td>\n",
       "      <td>2500000.0</td>\n",
       "      <td>0.1</td>\n",
       "      <td>0.0</td>\n",
       "      <td>0.0</td>\n",
       "      <td>0.0</td>\n",
       "      <td>0.0</td>\n",
       "      <td>0.0</td>\n",
       "      <td>1.0</td>\n",
       "      <td>0.0</td>\n",
       "      <td>0.0</td>\n",
       "      <td>with an option for another $2.5 Million for an...</td>\n",
       "      <td>25000000.0</td>\n",
       "    </tr>\n",
       "  </tbody>\n",
       "</table>\n",
       "</div>"
      ],
      "text/plain": [
       "     Season  No. in series Company Deal           Industry  \\\n",
       "421     6.0           11.0    Zipz  Yes  Food and Beverage   \n",
       "\n",
       "    Entrepreneur Gender     Amount  Equity  Corcoran  Cuban  Greiner  \\\n",
       "421                Male  2500000.0     0.1       0.0    0.0      0.0   \n",
       "\n",
       "     Herjavec  John  O'Leary  Harrington  Guest  \\\n",
       "421       0.0   0.0      1.0         0.0    0.0   \n",
       "\n",
       "                                       Details / Notes   Valuation  \n",
       "421  with an option for another $2.5 Million for an...  25000000.0  "
      ]
     },
     "execution_count": 5,
     "metadata": {},
     "output_type": "execute_result"
    }
   ],
   "source": [
    "df = df.loc[~(df['Equity'] == 0)]\n",
    "df[\"Valuation\"] = df[\"Amount\"] / df[\"Equity\"]\n",
    "max_Val = df[\"Valuation\"].max()\n",
    "max_Amt = df[\"Amount\"].max()\n",
    "df[df[\"Valuation\"] == max_Val]\n"
   ]
  },
  {
   "cell_type": "code",
   "execution_count": 6,
   "metadata": {},
   "outputs": [
    {
     "data": {
      "text/html": [
       "<div>\n",
       "<style scoped>\n",
       "    .dataframe tbody tr th:only-of-type {\n",
       "        vertical-align: middle;\n",
       "    }\n",
       "\n",
       "    .dataframe tbody tr th {\n",
       "        vertical-align: top;\n",
       "    }\n",
       "\n",
       "    .dataframe thead th {\n",
       "        text-align: right;\n",
       "    }\n",
       "</style>\n",
       "<table border=\"1\" class=\"dataframe\">\n",
       "  <thead>\n",
       "    <tr style=\"text-align: right;\">\n",
       "      <th></th>\n",
       "      <th>Season</th>\n",
       "      <th>No. in series</th>\n",
       "      <th>Company</th>\n",
       "      <th>Deal</th>\n",
       "      <th>Industry</th>\n",
       "      <th>Entrepreneur Gender</th>\n",
       "      <th>Amount</th>\n",
       "      <th>Equity</th>\n",
       "      <th>Corcoran</th>\n",
       "      <th>Cuban</th>\n",
       "      <th>Greiner</th>\n",
       "      <th>Herjavec</th>\n",
       "      <th>John</th>\n",
       "      <th>O'Leary</th>\n",
       "      <th>Harrington</th>\n",
       "      <th>Guest</th>\n",
       "      <th>Details / Notes</th>\n",
       "      <th>Valuation</th>\n",
       "    </tr>\n",
       "  </thead>\n",
       "  <tbody>\n",
       "    <tr>\n",
       "      <th>483</th>\n",
       "      <td>6.0</td>\n",
       "      <td>27.0</td>\n",
       "      <td>AirCar</td>\n",
       "      <td>Yes</td>\n",
       "      <td>Green/CleanTech</td>\n",
       "      <td>Male</td>\n",
       "      <td>5000000.0</td>\n",
       "      <td>0.5</td>\n",
       "      <td>0.0</td>\n",
       "      <td>0.0</td>\n",
       "      <td>0.0</td>\n",
       "      <td>1.0</td>\n",
       "      <td>0.0</td>\n",
       "      <td>0.0</td>\n",
       "      <td>0.0</td>\n",
       "      <td>0.0</td>\n",
       "      <td>Contingent on getting deal to bring to contine...</td>\n",
       "      <td>10000000.0</td>\n",
       "    </tr>\n",
       "  </tbody>\n",
       "</table>\n",
       "</div>"
      ],
      "text/plain": [
       "     Season  No. in series Company Deal         Industry Entrepreneur Gender  \\\n",
       "483     6.0           27.0  AirCar  Yes  Green/CleanTech                Male   \n",
       "\n",
       "        Amount  Equity  Corcoran  Cuban  Greiner  Herjavec  John  O'Leary  \\\n",
       "483  5000000.0     0.5       0.0    0.0      0.0       1.0   0.0      0.0   \n",
       "\n",
       "     Harrington  Guest                                    Details / Notes  \\\n",
       "483         0.0    0.0  Contingent on getting deal to bring to contine...   \n",
       "\n",
       "      Valuation  \n",
       "483  10000000.0  "
      ]
     },
     "execution_count": 6,
     "metadata": {},
     "output_type": "execute_result"
    }
   ],
   "source": [
    "df[df[\"Amount\"] == max_Amt]"
   ]
  },
  {
   "cell_type": "markdown",
   "metadata": {
    "colab_type": "text",
    "id": "RQw_4omBovwK"
   },
   "source": [
    "The most valuable company is Zipz. The company that received the largest total investment is AirCar."
   ]
  },
  {
   "cell_type": "markdown",
   "metadata": {
    "colab_type": "text",
    "id": "deHlRRDoovwK"
   },
   "source": [
    "## Question 2. Which Shark Invested the Most?"
   ]
  },
  {
   "cell_type": "markdown",
   "metadata": {
    "colab_type": "text",
    "id": "snpYXOcOovwM"
   },
   "source": [
    "Calculate the total amount of money that each shark invested over the 6 seasons. Which shark invested the most total money over the 6 seasons?\n",
    "\n",
    "_Hint:_ If $n$ sharks funded a given venture, then the amount that each shark invested is the total amount divided by $n$."
   ]
  },
  {
   "cell_type": "code",
   "execution_count": 7,
   "metadata": {
    "colab": {},
    "colab_type": "code",
    "id": "1UZfCn-2ovwO"
   },
   "outputs": [
    {
     "data": {
      "image/png": "[encoded data removed]",
      "text/plain": [
       "<Figure size 432x288 with 1 Axes>"
      ]
     },
     "metadata": {
      "needs_background": "light"
     },
     "output_type": "display_data"
    }
   ],
   "source": [
    "df[\"NumSharks\"] = df.loc[:,\"Corcoran\":\"Guest\"].sum(axis=1)\n",
    "df[\"IndAmount\"] = df[\"Amount\"] / df[\"NumSharks\"]\n",
    "funds = df.groupby([\"Corcoran\"])[\"IndAmount\"].agg('sum')\n",
    "CorcoranAmount = funds.iloc[1]\n",
    "funds = df.groupby([\"Cuban\"])[\"IndAmount\"].agg('sum')\n",
    "CubanAmount = funds.iloc[1]\n",
    "funds = df.groupby([\"Greiner\"])[\"IndAmount\"].agg('sum')\n",
    "GreinerAmount = funds.iloc[1]\n",
    "funds = df.groupby([\"Herjavec\"])[\"IndAmount\"].agg('sum')\n",
    "HerjavecAmount = funds.iloc[1]\n",
    "funds = df.groupby([\"John\"])[\"IndAmount\"].agg('sum')\n",
    "JohnAmount = funds.iloc[1]\n",
    "funds = df.groupby([\"O'Leary\"])[\"IndAmount\"].agg('sum')\n",
    "OLearyAmount = funds.iloc[1]\n",
    "funds = df.groupby([\"Harrington\"])[\"IndAmount\"].agg('sum')\n",
    "HarringtonAmount = funds.iloc[1]\n",
    "funds = df.groupby([\"Guest\"])[\"IndAmount\"].agg('sum')\n",
    "GuestAmount = funds.iloc[1]\n",
    "fundsDF = pd.DataFrame({'Shark':['Corcoran', 'Cuban', 'Greiner', 'Herjavec', 'John', \"O'Leary\", \"Harrington\", \"Guest\"], \\\n",
    "                        'Amount':[CorcoranAmount, CubanAmount, GreinerAmount, HerjavecAmount, JohnAmount, OLearyAmount, HarringtonAmount, GuestAmount]})\n",
    "ax = fundsDF.plot.bar(x='Shark', y='Amount', rot=0)"
   ]
  },
  {
   "cell_type": "markdown",
   "metadata": {
    "colab_type": "text",
    "id": "nAgPUDFKovwR"
   },
   "source": [
    "Based off the bar chart, we can see that Cuban invested the most total money over the 6 seasons."
   ]
  },
  {
   "cell_type": "markdown",
   "metadata": {
    "colab_type": "text",
    "id": "3vN86vhHovwS"
   },
   "source": [
    "## Question 3. Do the Sharks Prefer Certain Industries?\n",
    "\n",
    "Calculate the funding rate (the proportion of companies that were funded) for each industry. Make a visualization showing this information."
   ]
  },
  {
   "cell_type": "code",
   "execution_count": 8,
   "metadata": {
    "colab": {},
    "colab_type": "code",
    "id": "HoeI9g5NovwT"
   },
   "outputs": [
    {
     "data": {
      "text/plain": [
       "<AxesSubplot:xlabel='Industry'>"
      ]
     },
     "execution_count": 8,
     "metadata": {},
     "output_type": "execute_result"
    },
    {
     "data": {
      "image/png": "[encoded data removed]",
      "text/plain": [
       "<Figure size 432x288 with 1 Axes>"
      ]
     },
     "metadata": {
      "needs_background": "light"
     },
     "output_type": "display_data"
    }
   ],
   "source": [
    "totalAmt = df[\"Amount\"].sum()\n",
    "industryFunds = (df.groupby([\"Industry\"])[\"Amount\"].agg('sum'))/totalAmt\n",
    "industryFunds.plot.bar()"
   ]
  },
  {
   "cell_type": "markdown",
   "metadata": {
    "colab_type": "text",
    "id": "Kl12YJvOovwa"
   },
   "source": [
    "Sharks prefer Food and Beverage Industries over other industries."
   ]
  },
  {
   "cell_type": "markdown",
   "metadata": {
    "colab_type": "text",
    "id": "KaVqM_7xovwc"
   },
   "source": [
    "## Submission Instructions\n",
    "\n",
    "Once you are finished, follow these steps:\n",
    "\n",
    "1. Restart the kernel and re-run this notebook from beginning to end by going to `Kernel > Restart Kernel and Run All Cells`.\n",
    "\n",
    "2. If this process stops halfway through, that means there was an error. Correct the error and repeat Step 1 until the notebook runs from beginning to end.\n",
    "\n",
    "3. Double check that there is a number next to each code cell and that these numbers are in order.\n",
    "\n",
    "Then, submit your lab as follows:\n",
    "\n",
    "1. Go to `File > Export Notebook As > PDF`.\n",
    "\n",
    "2. Double check that the entire notebook, from beginning to end, is in this PDF file. (If the notebook is cut off, try first exporting the notebook to HTML and printing to PDF.)\n",
    "\n",
    "3. Upload the PDF to Gradescope and Notebook (ipynb) to iLearn\n",
    "4. Demo your lab."
   ]
  }
 ],
 "metadata": {
  "colab": {
   "name": "2A. Shark Tank.ipynb",
   "provenance": []
  },
  "kernelspec": {
   "display_name": "Python 3 (ipykernel)",
   "language": "python",
   "name": "python3"
  },
  "language_info": {
   "codemirror_mode": {
    "name": "ipython",
    "version": 3
   },
   "file_extension": ".py",
   "mimetype": "text/x-python",
   "name": "python",
   "nbconvert_exporter": "python",
   "pygments_lexer": "ipython3",
   "version": "3.9.7"
  }
 },
 "nbformat": 4,
 "nbformat_minor": 4
}
