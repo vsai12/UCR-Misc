{
 "cells": [
  {
   "cell_type": "markdown",
   "id": "d9e5d44a-7f99-42b6-83e5-095cf54b9aa2",
   "metadata": {},
   "source": [
    "1. The data I have are: housing situation, number of brothers & sisters, hours spent on movies/show, hours spent on social media, the amount of units a person takes this quarter, hours spent on studying, hour spent on sleeping, and hours of free time."
   ]
  },
  {
   "cell_type": "markdown",
   "id": "a5c80a0b-a297-489c-ae84-14943bd04564",
   "metadata": {},
   "source": [
    "2. I would like to know if the amount of siblings affect the time spent in doing other activites, such as studying or entertainment etc. Since it's less likely that siblings will directly influence students when they are not living at home, during my analysis, I also split by housing situation to see if there is any relationship."
   ]
  },
  {
   "cell_type": "markdown",
   "id": "69898f62-2279-4f67-a6ac-3aa338478709",
   "metadata": {},
   "source": [
    "3. Explore the data."
   ]
  },
  {
   "cell_type": "code",
   "execution_count": 1,
   "id": "7debe15c-4932-4cf7-9448-caba0af4e0fa",
   "metadata": {},
   "outputs": [],
   "source": [
    "import pandas as pd\n",
    "import matplotlib.pyplot as plt\n",
    "import numpy as np\n",
    "\n",
    "from IPython.core.interactiveshell import InteractiveShell\n",
    "InteractiveShell.ast_node_interactivity = \"all\"\n",
    "df = pd.read_csv(\"data.csv\")"
   ]
  },
  {
   "cell_type": "markdown",
   "id": "b57a9208-5d05-4b25-8a12-d87f4de87d9d",
   "metadata": {},
   "source": [
    "Adding brothers and sisters for total number of siblings. Dividing the value in Movies/Show and Free Time by 7 since the answer given is on 'per week' basis.\n",
    "Also dropping columns with nan in it."
   ]
  },
  {
   "cell_type": "code",
   "execution_count": 2,
   "id": "14e2c0ab-7240-4329-8626-7d1b7140c1db",
   "metadata": {},
   "outputs": [
    {
     "data": {
      "text/html": [
       "<div>\n",
       "<style scoped>\n",
       "    .dataframe tbody tr th:only-of-type {\n",
       "        vertical-align: middle;\n",
       "    }\n",
       "\n",
       "    .dataframe tbody tr th {\n",
       "        vertical-align: top;\n",
       "    }\n",
       "\n",
       "    .dataframe thead th {\n",
       "        text-align: right;\n",
       "    }\n",
       "</style>\n",
       "<table border=\"1\" class=\"dataframe\">\n",
       "  <thead>\n",
       "    <tr style=\"text-align: right;\">\n",
       "      <th></th>\n",
       "      <th>Housing</th>\n",
       "      <th>Brothers</th>\n",
       "      <th>Sisters</th>\n",
       "      <th>Movies/Shows</th>\n",
       "      <th>Social Media</th>\n",
       "      <th>Units</th>\n",
       "      <th>Study</th>\n",
       "      <th>Sleep</th>\n",
       "      <th>Free Time</th>\n",
       "      <th>numSibs</th>\n",
       "    </tr>\n",
       "  </thead>\n",
       "  <tbody>\n",
       "    <tr>\n",
       "      <th>0</th>\n",
       "      <td>On-campus housing (Dorms, Glen Mor, etc.)</td>\n",
       "      <td>0.0</td>\n",
       "      <td>1.0</td>\n",
       "      <td>0.714286</td>\n",
       "      <td>12.0</td>\n",
       "      <td>12.0</td>\n",
       "      <td>2.0</td>\n",
       "      <td>7.0</td>\n",
       "      <td>8.571429</td>\n",
       "      <td>1.0</td>\n",
       "    </tr>\n",
       "    <tr>\n",
       "      <th>1</th>\n",
       "      <td>On-campus housing (Dorms, Glen Mor, etc.)</td>\n",
       "      <td>2.0</td>\n",
       "      <td>0.0</td>\n",
       "      <td>0.571429</td>\n",
       "      <td>1.0</td>\n",
       "      <td>14.0</td>\n",
       "      <td>5.0</td>\n",
       "      <td>6.0</td>\n",
       "      <td>2.857143</td>\n",
       "      <td>2.0</td>\n",
       "    </tr>\n",
       "    <tr>\n",
       "      <th>2</th>\n",
       "      <td>On-campus housing (Dorms, Glen Mor, etc.)</td>\n",
       "      <td>0.0</td>\n",
       "      <td>1.0</td>\n",
       "      <td>0.428571</td>\n",
       "      <td>3.0</td>\n",
       "      <td>16.0</td>\n",
       "      <td>7.0</td>\n",
       "      <td>8.0</td>\n",
       "      <td>4.285714</td>\n",
       "      <td>1.0</td>\n",
       "    </tr>\n",
       "    <tr>\n",
       "      <th>3</th>\n",
       "      <td>Living at home</td>\n",
       "      <td>0.0</td>\n",
       "      <td>0.0</td>\n",
       "      <td>0.857143</td>\n",
       "      <td>1.0</td>\n",
       "      <td>15.0</td>\n",
       "      <td>8.0</td>\n",
       "      <td>6.0</td>\n",
       "      <td>1.428571</td>\n",
       "      <td>0.0</td>\n",
       "    </tr>\n",
       "    <tr>\n",
       "      <th>5</th>\n",
       "      <td>Off-campus housing</td>\n",
       "      <td>1.0</td>\n",
       "      <td>0.0</td>\n",
       "      <td>0.714286</td>\n",
       "      <td>4.0</td>\n",
       "      <td>13.0</td>\n",
       "      <td>1.0</td>\n",
       "      <td>7.0</td>\n",
       "      <td>2.857143</td>\n",
       "      <td>1.0</td>\n",
       "    </tr>\n",
       "    <tr>\n",
       "      <th>...</th>\n",
       "      <td>...</td>\n",
       "      <td>...</td>\n",
       "      <td>...</td>\n",
       "      <td>...</td>\n",
       "      <td>...</td>\n",
       "      <td>...</td>\n",
       "      <td>...</td>\n",
       "      <td>...</td>\n",
       "      <td>...</td>\n",
       "      <td>...</td>\n",
       "    </tr>\n",
       "    <tr>\n",
       "      <th>75</th>\n",
       "      <td>Living at home</td>\n",
       "      <td>1.0</td>\n",
       "      <td>1.0</td>\n",
       "      <td>0.285714</td>\n",
       "      <td>2.0</td>\n",
       "      <td>16.0</td>\n",
       "      <td>5.0</td>\n",
       "      <td>8.0</td>\n",
       "      <td>0.571429</td>\n",
       "      <td>2.0</td>\n",
       "    </tr>\n",
       "    <tr>\n",
       "      <th>76</th>\n",
       "      <td>Living at home</td>\n",
       "      <td>1.0</td>\n",
       "      <td>2.0</td>\n",
       "      <td>1.285714</td>\n",
       "      <td>5.0</td>\n",
       "      <td>10.0</td>\n",
       "      <td>5.0</td>\n",
       "      <td>8.0</td>\n",
       "      <td>4.285714</td>\n",
       "      <td>3.0</td>\n",
       "    </tr>\n",
       "    <tr>\n",
       "      <th>77</th>\n",
       "      <td>Living at home</td>\n",
       "      <td>1.0</td>\n",
       "      <td>0.0</td>\n",
       "      <td>1.142857</td>\n",
       "      <td>2.0</td>\n",
       "      <td>17.0</td>\n",
       "      <td>2.0</td>\n",
       "      <td>6.0</td>\n",
       "      <td>2.142857</td>\n",
       "      <td>1.0</td>\n",
       "    </tr>\n",
       "    <tr>\n",
       "      <th>78</th>\n",
       "      <td>On-campus housing (Dorms, Glen Mor, etc.)</td>\n",
       "      <td>0.0</td>\n",
       "      <td>1.0</td>\n",
       "      <td>1.428571</td>\n",
       "      <td>2.0</td>\n",
       "      <td>15.0</td>\n",
       "      <td>4.0</td>\n",
       "      <td>6.0</td>\n",
       "      <td>1.142857</td>\n",
       "      <td>1.0</td>\n",
       "    </tr>\n",
       "    <tr>\n",
       "      <th>79</th>\n",
       "      <td>Living at home</td>\n",
       "      <td>3.0</td>\n",
       "      <td>0.0</td>\n",
       "      <td>0.714286</td>\n",
       "      <td>2.0</td>\n",
       "      <td>16.0</td>\n",
       "      <td>2.0</td>\n",
       "      <td>6.0</td>\n",
       "      <td>1.142857</td>\n",
       "      <td>3.0</td>\n",
       "    </tr>\n",
       "  </tbody>\n",
       "</table>\n",
       "<p>72 rows × 10 columns</p>\n",
       "</div>"
      ],
      "text/plain": [
       "                                      Housing  Brothers  Sisters  \\\n",
       "0   On-campus housing (Dorms, Glen Mor, etc.)       0.0      1.0   \n",
       "1   On-campus housing (Dorms, Glen Mor, etc.)       2.0      0.0   \n",
       "2   On-campus housing (Dorms, Glen Mor, etc.)       0.0      1.0   \n",
       "3                              Living at home       0.0      0.0   \n",
       "5                          Off-campus housing       1.0      0.0   \n",
       "..                                        ...       ...      ...   \n",
       "75                             Living at home       1.0      1.0   \n",
       "76                             Living at home       1.0      2.0   \n",
       "77                             Living at home       1.0      0.0   \n",
       "78  On-campus housing (Dorms, Glen Mor, etc.)       0.0      1.0   \n",
       "79                             Living at home       3.0      0.0   \n",
       "\n",
       "    Movies/Shows  Social Media  Units  Study  Sleep  Free Time  numSibs  \n",
       "0       0.714286          12.0   12.0    2.0    7.0   8.571429      1.0  \n",
       "1       0.571429           1.0   14.0    5.0    6.0   2.857143      2.0  \n",
       "2       0.428571           3.0   16.0    7.0    8.0   4.285714      1.0  \n",
       "3       0.857143           1.0   15.0    8.0    6.0   1.428571      0.0  \n",
       "5       0.714286           4.0   13.0    1.0    7.0   2.857143      1.0  \n",
       "..           ...           ...    ...    ...    ...        ...      ...  \n",
       "75      0.285714           2.0   16.0    5.0    8.0   0.571429      2.0  \n",
       "76      1.285714           5.0   10.0    5.0    8.0   4.285714      3.0  \n",
       "77      1.142857           2.0   17.0    2.0    6.0   2.142857      1.0  \n",
       "78      1.428571           2.0   15.0    4.0    6.0   1.142857      1.0  \n",
       "79      0.714286           2.0   16.0    2.0    6.0   1.142857      3.0  \n",
       "\n",
       "[72 rows x 10 columns]"
      ]
     },
     "execution_count": 2,
     "metadata": {},
     "output_type": "execute_result"
    }
   ],
   "source": [
    "df[\"numSibs\"] = df[\"Brothers\"] + df[\"Sisters\"]\n",
    "df[\"Movies/Shows\"] /= 7.0\n",
    "df[\"Free Time\"] /= 7.0\n",
    "df = df.dropna()\n",
    "df"
   ]
  },
  {
   "cell_type": "markdown",
   "id": "d65d8f0d-63fb-45b0-a1e2-86336fa497e1",
   "metadata": {},
   "source": [
    "Plotting the numSibs in a box plot to see our median and outliers."
   ]
  },
  {
   "cell_type": "code",
   "execution_count": 3,
   "id": "062cb770-1056-49eb-95d5-405544668907",
   "metadata": {},
   "outputs": [
    {
     "data": {
      "text/plain": [
       "<AxesSubplot:>"
      ]
     },
     "execution_count": 3,
     "metadata": {},
     "output_type": "execute_result"
    },
    {
     "name": "stdout",
     "output_type": "stream",
     "text": [
      "\n",
      "----------- Calculate Mean -----------\n",
      "\n"
     ]
    },
    {
     "data": {
      "text/plain": [
       "1.5972222222222223"
      ]
     },
     "execution_count": 3,
     "metadata": {},
     "output_type": "execute_result"
    },
    {
     "name": "stdout",
     "output_type": "stream",
     "text": [
      "\n",
      "----------- Calculate Median -----------\n",
      "\n"
     ]
    },
    {
     "data": {
      "text/plain": [
       "1.0"
      ]
     },
     "execution_count": 3,
     "metadata": {},
     "output_type": "execute_result"
    },
    {
     "name": "stdout",
     "output_type": "stream",
     "text": [
      "\n",
      "----------- Calculate Mode -----------\n",
      "\n"
     ]
    },
    {
     "data": {
      "text/plain": [
       "0    1.0\n",
       "dtype: float64"
      ]
     },
     "execution_count": 3,
     "metadata": {},
     "output_type": "execute_result"
    },
    {
     "data": {
      "image/png": "[encoded data removed]",
      "text/plain": [
       "<Figure size 432x288 with 1 Axes>"
      ]
     },
     "metadata": {
      "needs_background": "light"
     },
     "output_type": "display_data"
    }
   ],
   "source": [
    "df.numSibs.plot.box()\n",
    "print(\"\\n----------- Calculate Mean -----------\\n\")\n",
    "df.numSibs.mean()\n",
    "print(\"\\n----------- Calculate Median -----------\\n\")\n",
    "df.numSibs.median()\n",
    "print(\"\\n----------- Calculate Mode -----------\\n\")\n",
    "df.numSibs.mode()"
   ]
  },
  {
   "cell_type": "code",
   "execution_count": 4,
   "id": "cdd984a2-c94a-4f0c-b6eb-a180ea815049",
   "metadata": {},
   "outputs": [
    {
     "data": {
      "text/plain": [
       "<AxesSubplot:>"
      ]
     },
     "execution_count": 4,
     "metadata": {},
     "output_type": "execute_result"
    },
    {
     "data": {
      "image/png": "[encoded data removed]",
      "text/plain": [
       "<Figure size 432x288 with 1 Axes>"
      ]
     },
     "metadata": {
      "needs_background": "light"
     },
     "output_type": "display_data"
    }
   ],
   "source": [
    "df.numSibs.value_counts().sort_index().plot(kind = \"bar\")"
   ]
  },
  {
   "cell_type": "markdown",
   "id": "24421a47-be79-4d1a-8392-da2925025e03",
   "metadata": {},
   "source": [
    "Stacked bar chart for the value counts of siblings, separating brothers and sisters."
   ]
  },
  {
   "cell_type": "code",
   "execution_count": 5,
   "id": "6e111689-788e-4044-a819-3cdac91befc4",
   "metadata": {},
   "outputs": [
    {
     "data": {
      "text/plain": [
       "<AxesSubplot:xlabel='numSibs'>"
      ]
     },
     "execution_count": 5,
     "metadata": {},
     "output_type": "execute_result"
    },
    {
     "data": {
      "image/png": "[encoded data removed]",
      "text/plain": [
       "<Figure size 432x288 with 1 Axes>"
      ]
     },
     "metadata": {
      "needs_background": "light"
     },
     "output_type": "display_data"
    }
   ],
   "source": [
    "df[\"Neither\"] = (df.numSibs==0)\n",
    "df.groupby(\"numSibs\").sum()[[\"Brothers\", \"Sisters\",\"Neither\"]].plot(kind=\"bar\", stacked=True)"
   ]
  },
  {
   "cell_type": "markdown",
   "id": "71963e66-86b5-45a8-a664-62fa461b4121",
   "metadata": {},
   "source": [
    "Mean of data based off the number of siblings a person has."
   ]
  },
  {
   "cell_type": "code",
   "execution_count": 6,
   "id": "74a7f5c6-b69e-41fc-9a6e-11512ec4b2d4",
   "metadata": {},
   "outputs": [
    {
     "data": {
      "text/html": [
       "<div>\n",
       "<style scoped>\n",
       "    .dataframe tbody tr th:only-of-type {\n",
       "        vertical-align: middle;\n",
       "    }\n",
       "\n",
       "    .dataframe tbody tr th {\n",
       "        vertical-align: top;\n",
       "    }\n",
       "\n",
       "    .dataframe thead th {\n",
       "        text-align: right;\n",
       "    }\n",
       "</style>\n",
       "<table border=\"1\" class=\"dataframe\">\n",
       "  <thead>\n",
       "    <tr style=\"text-align: right;\">\n",
       "      <th></th>\n",
       "      <th>Brothers</th>\n",
       "      <th>Sisters</th>\n",
       "      <th>Movies/Shows</th>\n",
       "      <th>Social Media</th>\n",
       "      <th>Units</th>\n",
       "      <th>Study</th>\n",
       "      <th>Sleep</th>\n",
       "      <th>Free Time</th>\n",
       "      <th>Neither</th>\n",
       "    </tr>\n",
       "    <tr>\n",
       "      <th>numSibs</th>\n",
       "      <th></th>\n",
       "      <th></th>\n",
       "      <th></th>\n",
       "      <th></th>\n",
       "      <th></th>\n",
       "      <th></th>\n",
       "      <th></th>\n",
       "      <th></th>\n",
       "      <th></th>\n",
       "    </tr>\n",
       "  </thead>\n",
       "  <tbody>\n",
       "    <tr>\n",
       "      <th>0.0</th>\n",
       "      <td>0.000000</td>\n",
       "      <td>0.000000</td>\n",
       "      <td>0.771429</td>\n",
       "      <td>2.600000</td>\n",
       "      <td>14.200000</td>\n",
       "      <td>5.466667</td>\n",
       "      <td>7.066667</td>\n",
       "      <td>2.895238</td>\n",
       "      <td>1.0</td>\n",
       "    </tr>\n",
       "    <tr>\n",
       "      <th>1.0</th>\n",
       "      <td>0.517241</td>\n",
       "      <td>0.482759</td>\n",
       "      <td>0.940887</td>\n",
       "      <td>3.413793</td>\n",
       "      <td>14.241379</td>\n",
       "      <td>4.344828</td>\n",
       "      <td>7.068966</td>\n",
       "      <td>2.748768</td>\n",
       "      <td>0.0</td>\n",
       "    </tr>\n",
       "    <tr>\n",
       "      <th>2.0</th>\n",
       "      <td>1.642857</td>\n",
       "      <td>0.357143</td>\n",
       "      <td>0.581633</td>\n",
       "      <td>1.428571</td>\n",
       "      <td>14.785714</td>\n",
       "      <td>3.642857</td>\n",
       "      <td>7.642857</td>\n",
       "      <td>2.581633</td>\n",
       "      <td>0.0</td>\n",
       "    </tr>\n",
       "    <tr>\n",
       "      <th>3.0</th>\n",
       "      <td>1.833333</td>\n",
       "      <td>1.166667</td>\n",
       "      <td>0.619048</td>\n",
       "      <td>2.500000</td>\n",
       "      <td>14.500000</td>\n",
       "      <td>3.166667</td>\n",
       "      <td>6.333333</td>\n",
       "      <td>2.619048</td>\n",
       "      <td>0.0</td>\n",
       "    </tr>\n",
       "    <tr>\n",
       "      <th>4.0</th>\n",
       "      <td>2.200000</td>\n",
       "      <td>1.800000</td>\n",
       "      <td>0.257143</td>\n",
       "      <td>3.400000</td>\n",
       "      <td>15.600000</td>\n",
       "      <td>5.800000</td>\n",
       "      <td>7.400000</td>\n",
       "      <td>2.657143</td>\n",
       "      <td>0.0</td>\n",
       "    </tr>\n",
       "    <tr>\n",
       "      <th>6.0</th>\n",
       "      <td>2.500000</td>\n",
       "      <td>3.500000</td>\n",
       "      <td>0.357143</td>\n",
       "      <td>3.000000</td>\n",
       "      <td>12.000000</td>\n",
       "      <td>3.000000</td>\n",
       "      <td>6.500000</td>\n",
       "      <td>3.785714</td>\n",
       "      <td>0.0</td>\n",
       "    </tr>\n",
       "    <tr>\n",
       "      <th>8.0</th>\n",
       "      <td>3.000000</td>\n",
       "      <td>5.000000</td>\n",
       "      <td>0.428571</td>\n",
       "      <td>2.000000</td>\n",
       "      <td>12.000000</td>\n",
       "      <td>5.000000</td>\n",
       "      <td>7.000000</td>\n",
       "      <td>1.428571</td>\n",
       "      <td>0.0</td>\n",
       "    </tr>\n",
       "  </tbody>\n",
       "</table>\n",
       "</div>"
      ],
      "text/plain": [
       "         Brothers   Sisters  Movies/Shows  Social Media      Units     Study  \\\n",
       "numSibs                                                                        \n",
       "0.0      0.000000  0.000000      0.771429      2.600000  14.200000  5.466667   \n",
       "1.0      0.517241  0.482759      0.940887      3.413793  14.241379  4.344828   \n",
       "2.0      1.642857  0.357143      0.581633      1.428571  14.785714  3.642857   \n",
       "3.0      1.833333  1.166667      0.619048      2.500000  14.500000  3.166667   \n",
       "4.0      2.200000  1.800000      0.257143      3.400000  15.600000  5.800000   \n",
       "6.0      2.500000  3.500000      0.357143      3.000000  12.000000  3.000000   \n",
       "8.0      3.000000  5.000000      0.428571      2.000000  12.000000  5.000000   \n",
       "\n",
       "            Sleep  Free Time  Neither  \n",
       "numSibs                                \n",
       "0.0      7.066667   2.895238      1.0  \n",
       "1.0      7.068966   2.748768      0.0  \n",
       "2.0      7.642857   2.581633      0.0  \n",
       "3.0      6.333333   2.619048      0.0  \n",
       "4.0      7.400000   2.657143      0.0  \n",
       "6.0      6.500000   3.785714      0.0  \n",
       "8.0      7.000000   1.428571      0.0  "
      ]
     },
     "execution_count": 6,
     "metadata": {},
     "output_type": "execute_result"
    }
   ],
   "source": [
    "df.groupby(\"numSibs\").mean()"
   ]
  },
  {
   "cell_type": "markdown",
   "id": "2264d43c-f289-4922-8126-58c3b2795867",
   "metadata": {},
   "source": [
    "Finding the percent of people who are 'Living at home' using a pie chart."
   ]
  },
  {
   "cell_type": "code",
   "execution_count": 7,
   "id": "f7bd07cb-343c-4c8d-aa6a-2e199fbee519",
   "metadata": {},
   "outputs": [
    {
     "data": {
      "text/plain": [
       "Text(0, 0.5, '')"
      ]
     },
     "execution_count": 7,
     "metadata": {},
     "output_type": "execute_result"
    },
    {
     "data": {
      "image/png": "[encoded data removed]",
      "text/plain": [
       "<Figure size 432x288 with 1 Axes>"
      ]
     },
     "metadata": {},
     "output_type": "display_data"
    }
   ],
   "source": [
    "import re\n",
    "df['Housing'] = df['Housing'].str.replace(r\"\\(.*\\)\",\"\",regex=True)\n",
    "h_pie = df[\"Housing\"].value_counts().plot.pie(y=' ', title=\"Housing Situation\", legend=False, \\\n",
    "                   autopct='%1.1f%%', explode=(0, 0.1, 0), \\\n",
    "                   shadow=True, startangle=0)\n",
    "h_pie.set_ylabel('')"
   ]
  },
  {
   "cell_type": "markdown",
   "id": "5c8a3fc0-dcfd-475b-9a25-ad08b6b1af0e",
   "metadata": {},
   "source": [
    "Bar chart for the people who live at home and the amount of siblings they have."
   ]
  },
  {
   "cell_type": "code",
   "execution_count": 8,
   "id": "10485935-bb4a-497e-95f8-b288f00461b1",
   "metadata": {},
   "outputs": [
    {
     "data": {
      "text/plain": [
       "<AxesSubplot:>"
      ]
     },
     "execution_count": 8,
     "metadata": {},
     "output_type": "execute_result"
    },
    {
     "data": {
      "image/png": "[encoded data removed]",
      "text/plain": [
       "<Figure size 432x288 with 1 Axes>"
      ]
     },
     "metadata": {
      "needs_background": "light"
     },
     "output_type": "display_data"
    }
   ],
   "source": [
    "df2 = df.loc[df['Housing'] == 'Living at home']\n",
    "df2.numSibs.value_counts().sort_index().plot(kind = \"bar\")"
   ]
  },
  {
   "cell_type": "markdown",
   "id": "e2c3fee8-fbd2-4bca-9639-1992bb5be259",
   "metadata": {},
   "source": [
    "Mean of data for the people living at home based off the number of siblings a person has."
   ]
  },
  {
   "cell_type": "code",
   "execution_count": 9,
   "id": "24c6a984-44fb-4ef9-b9a2-12d22340673f",
   "metadata": {},
   "outputs": [
    {
     "data": {
      "text/html": [
       "<div>\n",
       "<style scoped>\n",
       "    .dataframe tbody tr th:only-of-type {\n",
       "        vertical-align: middle;\n",
       "    }\n",
       "\n",
       "    .dataframe tbody tr th {\n",
       "        vertical-align: top;\n",
       "    }\n",
       "\n",
       "    .dataframe thead th {\n",
       "        text-align: right;\n",
       "    }\n",
       "</style>\n",
       "<table border=\"1\" class=\"dataframe\">\n",
       "  <thead>\n",
       "    <tr style=\"text-align: right;\">\n",
       "      <th></th>\n",
       "      <th>Brothers</th>\n",
       "      <th>Sisters</th>\n",
       "      <th>Movies/Shows</th>\n",
       "      <th>Social Media</th>\n",
       "      <th>Units</th>\n",
       "      <th>Study</th>\n",
       "      <th>Sleep</th>\n",
       "      <th>Free Time</th>\n",
       "      <th>Neither</th>\n",
       "    </tr>\n",
       "    <tr>\n",
       "      <th>numSibs</th>\n",
       "      <th></th>\n",
       "      <th></th>\n",
       "      <th></th>\n",
       "      <th></th>\n",
       "      <th></th>\n",
       "      <th></th>\n",
       "      <th></th>\n",
       "      <th></th>\n",
       "      <th></th>\n",
       "    </tr>\n",
       "  </thead>\n",
       "  <tbody>\n",
       "    <tr>\n",
       "      <th>0.0</th>\n",
       "      <td>0.0</td>\n",
       "      <td>0.0</td>\n",
       "      <td>1.785714</td>\n",
       "      <td>1.0</td>\n",
       "      <td>14.250000</td>\n",
       "      <td>7.000000</td>\n",
       "      <td>6.750000</td>\n",
       "      <td>4.607143</td>\n",
       "      <td>1.0</td>\n",
       "    </tr>\n",
       "    <tr>\n",
       "      <th>1.0</th>\n",
       "      <td>0.5</td>\n",
       "      <td>0.5</td>\n",
       "      <td>0.535714</td>\n",
       "      <td>5.5</td>\n",
       "      <td>15.750000</td>\n",
       "      <td>3.000000</td>\n",
       "      <td>6.250000</td>\n",
       "      <td>1.857143</td>\n",
       "      <td>0.0</td>\n",
       "    </tr>\n",
       "    <tr>\n",
       "      <th>2.0</th>\n",
       "      <td>1.0</td>\n",
       "      <td>1.0</td>\n",
       "      <td>0.285714</td>\n",
       "      <td>1.0</td>\n",
       "      <td>14.666667</td>\n",
       "      <td>4.333333</td>\n",
       "      <td>7.333333</td>\n",
       "      <td>1.428571</td>\n",
       "      <td>0.0</td>\n",
       "    </tr>\n",
       "    <tr>\n",
       "      <th>3.0</th>\n",
       "      <td>2.0</td>\n",
       "      <td>1.0</td>\n",
       "      <td>0.642857</td>\n",
       "      <td>3.0</td>\n",
       "      <td>14.250000</td>\n",
       "      <td>3.500000</td>\n",
       "      <td>6.750000</td>\n",
       "      <td>2.142857</td>\n",
       "      <td>0.0</td>\n",
       "    </tr>\n",
       "    <tr>\n",
       "      <th>4.0</th>\n",
       "      <td>2.5</td>\n",
       "      <td>1.5</td>\n",
       "      <td>0.357143</td>\n",
       "      <td>3.5</td>\n",
       "      <td>13.500000</td>\n",
       "      <td>3.500000</td>\n",
       "      <td>8.000000</td>\n",
       "      <td>3.071429</td>\n",
       "      <td>0.0</td>\n",
       "    </tr>\n",
       "    <tr>\n",
       "      <th>6.0</th>\n",
       "      <td>2.5</td>\n",
       "      <td>3.5</td>\n",
       "      <td>0.357143</td>\n",
       "      <td>3.0</td>\n",
       "      <td>12.000000</td>\n",
       "      <td>3.000000</td>\n",
       "      <td>6.500000</td>\n",
       "      <td>3.785714</td>\n",
       "      <td>0.0</td>\n",
       "    </tr>\n",
       "  </tbody>\n",
       "</table>\n",
       "</div>"
      ],
      "text/plain": [
       "         Brothers  Sisters  Movies/Shows  Social Media      Units     Study  \\\n",
       "numSibs                                                                       \n",
       "0.0           0.0      0.0      1.785714           1.0  14.250000  7.000000   \n",
       "1.0           0.5      0.5      0.535714           5.5  15.750000  3.000000   \n",
       "2.0           1.0      1.0      0.285714           1.0  14.666667  4.333333   \n",
       "3.0           2.0      1.0      0.642857           3.0  14.250000  3.500000   \n",
       "4.0           2.5      1.5      0.357143           3.5  13.500000  3.500000   \n",
       "6.0           2.5      3.5      0.357143           3.0  12.000000  3.000000   \n",
       "\n",
       "            Sleep  Free Time  Neither  \n",
       "numSibs                                \n",
       "0.0      6.750000   4.607143      1.0  \n",
       "1.0      6.250000   1.857143      0.0  \n",
       "2.0      7.333333   1.428571      0.0  \n",
       "3.0      6.750000   2.142857      0.0  \n",
       "4.0      8.000000   3.071429      0.0  \n",
       "6.0      6.500000   3.785714      0.0  "
      ]
     },
     "execution_count": 9,
     "metadata": {},
     "output_type": "execute_result"
    }
   ],
   "source": [
    "df2_Sibs = df2.groupby(\"numSibs\").mean()\n",
    "df2_Sibs"
   ]
  },
  {
   "cell_type": "markdown",
   "id": "6d4bcd4d-40bd-4965-b5e1-956038881413",
   "metadata": {},
   "source": [
    "Dropping certain columns that aren't based off hours of the day to show in a heat map."
   ]
  },
  {
   "cell_type": "code",
   "execution_count": 10,
   "id": "6a0f639c-58f9-44a3-bc3b-a1351c86f0e6",
   "metadata": {},
   "outputs": [
    {
     "data": {
      "text/plain": [
       "<AxesSubplot:ylabel='numSibs'>"
      ]
     },
     "execution_count": 10,
     "metadata": {},
     "output_type": "execute_result"
    },
    {
     "data": {
      "image/png": "[encoded data removed]",
      "text/plain": [
       "<Figure size 432x288 with 2 Axes>"
      ]
     },
     "metadata": {
      "needs_background": "light"
     },
     "output_type": "display_data"
    }
   ],
   "source": [
    "df2_Sibs = df2_Sibs.drop(['Brothers'], axis = 1)\n",
    "df2_Sibs = df2_Sibs.drop(['Sisters'], axis = 1)\n",
    "df2_Sibs = df2_Sibs.drop(['Neither'], axis = 1)\n",
    "df2_Sibs = df2_Sibs.drop(['Units'], axis = 1)\n",
    "import seaborn as sns\n",
    "\n",
    "sns.heatmap(df2_Sibs, cmap = \"coolwarm\",annot= True)"
   ]
  },
  {
   "cell_type": "markdown",
   "id": "563aeeba-ff97-439f-985a-f6f0e8d5a383",
   "metadata": {},
   "source": [
    "Sleep seems to be most of the time spent and unrelated to amount of siblings, so we drop it for a better visualization for the other hours spent."
   ]
  },
  {
   "cell_type": "code",
   "execution_count": 11,
   "id": "b6c711ff-36fa-4266-859c-9e0284bb129b",
   "metadata": {},
   "outputs": [
    {
     "data": {
      "text/plain": [
       "<AxesSubplot:ylabel='numSibs'>"
      ]
     },
     "execution_count": 11,
     "metadata": {},
     "output_type": "execute_result"
    },
    {
     "data": {
      "image/png": "[encoded data removed]",
      "text/plain": [
       "<Figure size 432x288 with 2 Axes>"
      ]
     },
     "metadata": {
      "needs_background": "light"
     },
     "output_type": "display_data"
    }
   ],
   "source": [
    "df2_Sibs = df2_Sibs.drop(['Sleep'], axis = 1)\n",
    "sns.heatmap(df2_Sibs, cmap = \"coolwarm\",annot= True)"
   ]
  },
  {
   "cell_type": "markdown",
   "id": "96c17fb7-0a09-4603-993f-6117070570d7",
   "metadata": {},
   "source": [
    "Scatter plot for numSibs vs Studying"
   ]
  },
  {
   "cell_type": "code",
   "execution_count": 12,
   "id": "87969636-90db-4ae6-b86a-1811b4ff1e7e",
   "metadata": {},
   "outputs": [
    {
     "data": {
      "text/plain": [
       "<AxesSubplot:xlabel='numSibs', ylabel='Study'>"
      ]
     },
     "execution_count": 12,
     "metadata": {},
     "output_type": "execute_result"
    },
    {
     "data": {
      "image/png": "[encoded data removed]",
      "text/plain": [
       "<Figure size 432x288 with 1 Axes>"
      ]
     },
     "metadata": {
      "needs_background": "light"
     },
     "output_type": "display_data"
    }
   ],
   "source": [
    "df2[[\"numSibs\",\"Study\"]].plot.scatter(x=\"numSibs\", y= \"Study\")"
   ]
  },
  {
   "cell_type": "markdown",
   "id": "d3068d28-474f-4b61-91d3-f9c499358320",
   "metadata": {},
   "source": [
    "Checking the other 2 housing situations"
   ]
  },
  {
   "cell_type": "code",
   "execution_count": 13,
   "id": "010e50f1-b2db-4382-a55f-ae2cb0b3c95e",
   "metadata": {},
   "outputs": [
    {
     "data": {
      "text/html": [
       "<div>\n",
       "<style scoped>\n",
       "    .dataframe tbody tr th:only-of-type {\n",
       "        vertical-align: middle;\n",
       "    }\n",
       "\n",
       "    .dataframe tbody tr th {\n",
       "        vertical-align: top;\n",
       "    }\n",
       "\n",
       "    .dataframe thead th {\n",
       "        text-align: right;\n",
       "    }\n",
       "</style>\n",
       "<table border=\"1\" class=\"dataframe\">\n",
       "  <thead>\n",
       "    <tr style=\"text-align: right;\">\n",
       "      <th></th>\n",
       "      <th>Brothers</th>\n",
       "      <th>Sisters</th>\n",
       "      <th>Movies/Shows</th>\n",
       "      <th>Social Media</th>\n",
       "      <th>Units</th>\n",
       "      <th>Study</th>\n",
       "      <th>Sleep</th>\n",
       "      <th>Free Time</th>\n",
       "      <th>Neither</th>\n",
       "    </tr>\n",
       "    <tr>\n",
       "      <th>numSibs</th>\n",
       "      <th></th>\n",
       "      <th></th>\n",
       "      <th></th>\n",
       "      <th></th>\n",
       "      <th></th>\n",
       "      <th></th>\n",
       "      <th></th>\n",
       "      <th></th>\n",
       "      <th></th>\n",
       "    </tr>\n",
       "  </thead>\n",
       "  <tbody>\n",
       "    <tr>\n",
       "      <th>0.0</th>\n",
       "      <td>0.000000</td>\n",
       "      <td>0.000000</td>\n",
       "      <td>0.402597</td>\n",
       "      <td>3.181818</td>\n",
       "      <td>14.181818</td>\n",
       "      <td>4.909091</td>\n",
       "      <td>7.181818</td>\n",
       "      <td>2.272727</td>\n",
       "      <td>1.0</td>\n",
       "    </tr>\n",
       "    <tr>\n",
       "      <th>1.0</th>\n",
       "      <td>0.520000</td>\n",
       "      <td>0.480000</td>\n",
       "      <td>1.005714</td>\n",
       "      <td>3.080000</td>\n",
       "      <td>14.000000</td>\n",
       "      <td>4.560000</td>\n",
       "      <td>7.200000</td>\n",
       "      <td>2.891429</td>\n",
       "      <td>0.0</td>\n",
       "    </tr>\n",
       "    <tr>\n",
       "      <th>2.0</th>\n",
       "      <td>1.818182</td>\n",
       "      <td>0.181818</td>\n",
       "      <td>0.662338</td>\n",
       "      <td>1.545455</td>\n",
       "      <td>14.818182</td>\n",
       "      <td>3.454545</td>\n",
       "      <td>7.727273</td>\n",
       "      <td>2.896104</td>\n",
       "      <td>0.0</td>\n",
       "    </tr>\n",
       "    <tr>\n",
       "      <th>3.0</th>\n",
       "      <td>1.500000</td>\n",
       "      <td>1.500000</td>\n",
       "      <td>0.571429</td>\n",
       "      <td>1.500000</td>\n",
       "      <td>15.000000</td>\n",
       "      <td>2.500000</td>\n",
       "      <td>5.500000</td>\n",
       "      <td>3.571429</td>\n",
       "      <td>0.0</td>\n",
       "    </tr>\n",
       "    <tr>\n",
       "      <th>4.0</th>\n",
       "      <td>2.000000</td>\n",
       "      <td>2.000000</td>\n",
       "      <td>0.190476</td>\n",
       "      <td>3.333333</td>\n",
       "      <td>17.000000</td>\n",
       "      <td>7.333333</td>\n",
       "      <td>7.000000</td>\n",
       "      <td>2.380952</td>\n",
       "      <td>0.0</td>\n",
       "    </tr>\n",
       "    <tr>\n",
       "      <th>8.0</th>\n",
       "      <td>3.000000</td>\n",
       "      <td>5.000000</td>\n",
       "      <td>0.428571</td>\n",
       "      <td>2.000000</td>\n",
       "      <td>12.000000</td>\n",
       "      <td>5.000000</td>\n",
       "      <td>7.000000</td>\n",
       "      <td>1.428571</td>\n",
       "      <td>0.0</td>\n",
       "    </tr>\n",
       "  </tbody>\n",
       "</table>\n",
       "</div>"
      ],
      "text/plain": [
       "         Brothers   Sisters  Movies/Shows  Social Media      Units     Study  \\\n",
       "numSibs                                                                        \n",
       "0.0      0.000000  0.000000      0.402597      3.181818  14.181818  4.909091   \n",
       "1.0      0.520000  0.480000      1.005714      3.080000  14.000000  4.560000   \n",
       "2.0      1.818182  0.181818      0.662338      1.545455  14.818182  3.454545   \n",
       "3.0      1.500000  1.500000      0.571429      1.500000  15.000000  2.500000   \n",
       "4.0      2.000000  2.000000      0.190476      3.333333  17.000000  7.333333   \n",
       "8.0      3.000000  5.000000      0.428571      2.000000  12.000000  5.000000   \n",
       "\n",
       "            Sleep  Free Time  Neither  \n",
       "numSibs                                \n",
       "0.0      7.181818   2.272727      1.0  \n",
       "1.0      7.200000   2.891429      0.0  \n",
       "2.0      7.727273   2.896104      0.0  \n",
       "3.0      5.500000   3.571429      0.0  \n",
       "4.0      7.000000   2.380952      0.0  \n",
       "8.0      7.000000   1.428571      0.0  "
      ]
     },
     "execution_count": 13,
     "metadata": {},
     "output_type": "execute_result"
    }
   ],
   "source": [
    "df3 = df.loc[(df['Housing'] == 'Off-campus housing') | (df['Housing'] == 'On-campus housing ')]\n",
    "df3_Sibs = df3.groupby(\"numSibs\").mean()\n",
    "df3_Sibs"
   ]
  },
  {
   "cell_type": "code",
   "execution_count": 14,
   "id": "857b4452-9578-4645-955f-480bff8d1d13",
   "metadata": {},
   "outputs": [
    {
     "data": {
      "text/plain": [
       "<AxesSubplot:ylabel='numSibs'>"
      ]
     },
     "execution_count": 14,
     "metadata": {},
     "output_type": "execute_result"
    },
    {
     "data": {
      "image/png": "[encoded data removed]",
      "text/plain": [
       "<Figure size 432x288 with 2 Axes>"
      ]
     },
     "metadata": {
      "needs_background": "light"
     },
     "output_type": "display_data"
    }
   ],
   "source": [
    "df3_Sibs = df3_Sibs.drop(['Brothers'], axis = 1)\n",
    "df3_Sibs = df3_Sibs.drop(['Sisters'], axis = 1)\n",
    "df3_Sibs = df3_Sibs.drop(['Neither'], axis = 1)\n",
    "df3_Sibs = df3_Sibs.drop(['Units'], axis = 1)\n",
    "\n",
    "sns.heatmap(df3_Sibs, cmap = \"coolwarm\",annot= True)"
   ]
  },
  {
   "cell_type": "code",
   "execution_count": 15,
   "id": "f2ef33ec-af45-4a18-a604-db83e723d0e9",
   "metadata": {},
   "outputs": [
    {
     "data": {
      "text/plain": [
       "<AxesSubplot:ylabel='numSibs'>"
      ]
     },
     "execution_count": 15,
     "metadata": {},
     "output_type": "execute_result"
    },
    {
     "data": {
      "image/png": "[encoded data removed]",
      "text/plain": [
       "<Figure size 432x288 with 2 Axes>"
      ]
     },
     "metadata": {
      "needs_background": "light"
     },
     "output_type": "display_data"
    }
   ],
   "source": [
    "df3_Sibs = df3_Sibs.drop(['Sleep'], axis = 1)\n",
    "sns.heatmap(df3_Sibs, cmap = \"coolwarm\",annot= True)"
   ]
  },
  {
   "cell_type": "markdown",
   "id": "9063e0a4-d2ba-4cd3-94a5-3413237f4d9f",
   "metadata": {},
   "source": [
    "4. Hypothesis\\\n",
    "Hypothesis #1: The number of siblings has no relationship to hours spent sleeping.\\\n",
    "Hypothesis #2: The number of siblings has a negative correlation to hours spent studying when living at home. \\\n",
    "Hypothesis #3: The number of siblings has a a slight negative correlation to hours spent on social media when not living at home."
   ]
  },
  {
   "cell_type": "markdown",
   "id": "18a36a19-f7ed-4254-9a43-922d3f5ad919",
   "metadata": {},
   "source": [
    "5. Hypothesis test\\\n",
    "Verifying Toyset by hand\n"
   ]
  },
  {
   "cell_type": "code",
   "execution_count": 16,
   "id": "f4a11066-375d-47b5-a0b3-a59a287e5d0d",
   "metadata": {},
   "outputs": [
    {
     "name": "stdout",
     "output_type": "stream",
     "text": [
      "chi square value for toy1:  1.3017411950929958\n"
     ]
    }
   ],
   "source": [
    "import scipy.stats\n",
    "from scipy.stats import chi2_contingency\n",
    "from scipy.stats import chi2\n",
    "toy1 = pd.read_csv(\"toy1.csv\")\n",
    "toy2 = pd.read_csv(\"toy2.csv\")\n",
    "toy3 = pd.read_csv(\"toy3.csv\")\n",
    "temp1 = pd.crosstab(toy1.numSibs,toy1.Sleep)\n",
    "chi, p, dfree, expected = chi2_contingency(temp1)\n",
    "print(\"chi square value for toy1: \" ,chi)"
   ]
  },
  {
   "cell_type": "markdown",
   "id": "ef6d5e2a-0212-4994-bc73-27439ceebefd",
   "metadata": {},
   "source": [
    "Value gotten on paper with rounding was 1.301, so it is correct."
   ]
  },
  {
   "cell_type": "code",
   "execution_count": 17,
   "id": "cc41c56f-6d35-445d-87e1-a7c447eca92b",
   "metadata": {},
   "outputs": [
    {
     "name": "stdout",
     "output_type": "stream",
     "text": [
      "chi square value for toy2:  4.0\n"
     ]
    }
   ],
   "source": [
    "temp2 = pd.crosstab(toy2.numSibs,toy2.Study)\n",
    "chi, p, dfree, expected = chi2_contingency(temp2)\n",
    "print(\"chi square value for toy2: \" ,chi)"
   ]
  },
  {
   "cell_type": "markdown",
   "id": "41bb5f39-0b62-4312-80da-5cd432dd2f30",
   "metadata": {},
   "source": [
    "Value gotten on paper was exactly 4 as well, so it is correct"
   ]
  },
  {
   "cell_type": "code",
   "execution_count": 18,
   "id": "81f8d28a-c7b3-41c6-8110-02424be9e784",
   "metadata": {},
   "outputs": [
    {
     "name": "stdout",
     "output_type": "stream",
     "text": [
      "chi square value for toy3:  2.2022675736961457\n"
     ]
    }
   ],
   "source": [
    "temp3 = pd.crosstab(toy3.numSibs,toy3[\"Social Media\"])\n",
    "chi, p, dfree, expected = chi2_contingency(temp3)\n",
    "print(\"chi square value for toy3: \" ,chi)"
   ]
  },
  {
   "cell_type": "markdown",
   "id": "6cf9c4c6-b671-46b5-b8b5-4552cd215ebc",
   "metadata": {},
   "source": [
    "Value gotten on paper with round was 2.2042, so it is correct."
   ]
  },
  {
   "cell_type": "markdown",
   "id": "0ec5b5bd-af4c-4e3f-816a-42132f92b126",
   "metadata": {},
   "source": [
    "Hypothesis #1 Correlation Analysis"
   ]
  },
  {
   "cell_type": "code",
   "execution_count": 19,
   "id": "144fb20b-ceec-4ba9-8b1e-75e17c0bc021",
   "metadata": {},
   "outputs": [
    {
     "data": {
      "text/plain": [
       "-0.033116232102940714"
      ]
     },
     "execution_count": 19,
     "metadata": {},
     "output_type": "execute_result"
    }
   ],
   "source": [
    "x1 = df.numSibs\n",
    "y1 = df.Sleep\n",
    "r1 = np.corrcoef(x1, y1)\n",
    "r1[0,1]"
   ]
  },
  {
   "cell_type": "markdown",
   "id": "7a5c6772-ff88-4c45-8d77-94f64b219fd3",
   "metadata": {},
   "source": [
    "Hypothesis #1 chi-squared test"
   ]
  },
  {
   "cell_type": "code",
   "execution_count": 20,
   "id": "b65a1e78-56ed-4a50-9ef0-8dafebaee798",
   "metadata": {},
   "outputs": [
    {
     "data": {
      "text/html": [
       "<div>\n",
       "<style scoped>\n",
       "    .dataframe tbody tr th:only-of-type {\n",
       "        vertical-align: middle;\n",
       "    }\n",
       "\n",
       "    .dataframe tbody tr th {\n",
       "        vertical-align: top;\n",
       "    }\n",
       "\n",
       "    .dataframe thead th {\n",
       "        text-align: right;\n",
       "    }\n",
       "</style>\n",
       "<table border=\"1\" class=\"dataframe\">\n",
       "  <thead>\n",
       "    <tr style=\"text-align: right;\">\n",
       "      <th>Sleep</th>\n",
       "      <th>4.0</th>\n",
       "      <th>6.0</th>\n",
       "      <th>7.0</th>\n",
       "      <th>8.0</th>\n",
       "      <th>9.0</th>\n",
       "      <th>10.0</th>\n",
       "    </tr>\n",
       "    <tr>\n",
       "      <th>numSibs</th>\n",
       "      <th></th>\n",
       "      <th></th>\n",
       "      <th></th>\n",
       "      <th></th>\n",
       "      <th></th>\n",
       "      <th></th>\n",
       "    </tr>\n",
       "  </thead>\n",
       "  <tbody>\n",
       "    <tr>\n",
       "      <th>0.0</th>\n",
       "      <td>0</td>\n",
       "      <td>6</td>\n",
       "      <td>3</td>\n",
       "      <td>5</td>\n",
       "      <td>1</td>\n",
       "      <td>0</td>\n",
       "    </tr>\n",
       "    <tr>\n",
       "      <th>1.0</th>\n",
       "      <td>1</td>\n",
       "      <td>10</td>\n",
       "      <td>8</td>\n",
       "      <td>6</td>\n",
       "      <td>3</td>\n",
       "      <td>1</td>\n",
       "    </tr>\n",
       "    <tr>\n",
       "      <th>2.0</th>\n",
       "      <td>0</td>\n",
       "      <td>3</td>\n",
       "      <td>3</td>\n",
       "      <td>5</td>\n",
       "      <td>2</td>\n",
       "      <td>1</td>\n",
       "    </tr>\n",
       "    <tr>\n",
       "      <th>3.0</th>\n",
       "      <td>1</td>\n",
       "      <td>2</td>\n",
       "      <td>2</td>\n",
       "      <td>1</td>\n",
       "      <td>0</td>\n",
       "      <td>0</td>\n",
       "    </tr>\n",
       "    <tr>\n",
       "      <th>4.0</th>\n",
       "      <td>0</td>\n",
       "      <td>0</td>\n",
       "      <td>4</td>\n",
       "      <td>0</td>\n",
       "      <td>1</td>\n",
       "      <td>0</td>\n",
       "    </tr>\n",
       "    <tr>\n",
       "      <th>6.0</th>\n",
       "      <td>0</td>\n",
       "      <td>1</td>\n",
       "      <td>1</td>\n",
       "      <td>0</td>\n",
       "      <td>0</td>\n",
       "      <td>0</td>\n",
       "    </tr>\n",
       "    <tr>\n",
       "      <th>8.0</th>\n",
       "      <td>0</td>\n",
       "      <td>0</td>\n",
       "      <td>1</td>\n",
       "      <td>0</td>\n",
       "      <td>0</td>\n",
       "      <td>0</td>\n",
       "    </tr>\n",
       "  </tbody>\n",
       "</table>\n",
       "</div>"
      ],
      "text/plain": [
       "Sleep    4.0   6.0   7.0   8.0   9.0   10.0\n",
       "numSibs                                    \n",
       "0.0         0     6     3     5     1     0\n",
       "1.0         1    10     8     6     3     1\n",
       "2.0         0     3     3     5     2     1\n",
       "3.0         1     2     2     1     0     0\n",
       "4.0         0     0     4     0     1     0\n",
       "6.0         0     1     1     0     0     0\n",
       "8.0         0     0     1     0     0     0"
      ]
     },
     "execution_count": 20,
     "metadata": {},
     "output_type": "execute_result"
    },
    {
     "name": "stdout",
     "output_type": "stream",
     "text": [
      "chi square value:  22.42890485347744\n",
      "degree of freedom:  30\n",
      "for 30 degree of freedom, the chi-square valued needed to reject the hypothesis at the 0.05 significance level:\n"
     ]
    },
    {
     "data": {
      "text/plain": [
       "43.77297182574219"
      ]
     },
     "execution_count": 20,
     "metadata": {},
     "output_type": "execute_result"
    }
   ],
   "source": [
    "t1 = pd.crosstab(x1,y1)\n",
    "t1\n",
    "chi, p, dfree, expected = chi2_contingency(t1)\n",
    "print(\"chi square value: \" ,chi)\n",
    "#print(\"p value: \", p)\n",
    "print(\"degree of freedom: \", dfree)\n",
    "#print(\"expected frequencies when story type and gender is independent: \", expected)\n",
    "print(\"for 30 degree of freedom, the chi-square valued needed to reject the hypothesis at the 0.05 significance level:\")\n",
    "chi2.ppf(0.95, 30)"
   ]
  },
  {
   "cell_type": "markdown",
   "id": "89ce2a47-7dc4-4a4a-86b5-1a14c06febb1",
   "metadata": {},
   "source": [
    "Hypothesis #2 Correlation Anaylsis"
   ]
  },
  {
   "cell_type": "code",
   "execution_count": 21,
   "id": "ef08a159-3e51-44b1-85ee-e1e3e8e12948",
   "metadata": {},
   "outputs": [
    {
     "data": {
      "text/plain": [
       "-0.3608443816061956"
      ]
     },
     "execution_count": 21,
     "metadata": {},
     "output_type": "execute_result"
    }
   ],
   "source": [
    "x2 = df2.numSibs\n",
    "y2 = df2.Study\n",
    "r2 = np.corrcoef(x2, y2)\n",
    "r2[0,1]"
   ]
  },
  {
   "cell_type": "markdown",
   "id": "e0f84a15-9762-4c5d-974f-52af43f50e3e",
   "metadata": {},
   "source": [
    "Hypothesis #2 chi-squared test"
   ]
  },
  {
   "cell_type": "code",
   "execution_count": 22,
   "id": "e710f9a4-1940-4634-abfc-e00b5839ef16",
   "metadata": {},
   "outputs": [
    {
     "data": {
      "text/html": [
       "<div>\n",
       "<style scoped>\n",
       "    .dataframe tbody tr th:only-of-type {\n",
       "        vertical-align: middle;\n",
       "    }\n",
       "\n",
       "    .dataframe tbody tr th {\n",
       "        vertical-align: top;\n",
       "    }\n",
       "\n",
       "    .dataframe thead th {\n",
       "        text-align: right;\n",
       "    }\n",
       "</style>\n",
       "<table border=\"1\" class=\"dataframe\">\n",
       "  <thead>\n",
       "    <tr style=\"text-align: right;\">\n",
       "      <th>Study</th>\n",
       "      <th>1.0</th>\n",
       "      <th>2.0</th>\n",
       "      <th>3.0</th>\n",
       "      <th>4.0</th>\n",
       "      <th>5.0</th>\n",
       "      <th>6.0</th>\n",
       "      <th>7.0</th>\n",
       "      <th>8.0</th>\n",
       "      <th>12.0</th>\n",
       "    </tr>\n",
       "    <tr>\n",
       "      <th>numSibs</th>\n",
       "      <th></th>\n",
       "      <th></th>\n",
       "      <th></th>\n",
       "      <th></th>\n",
       "      <th></th>\n",
       "      <th></th>\n",
       "      <th></th>\n",
       "      <th></th>\n",
       "      <th></th>\n",
       "    </tr>\n",
       "  </thead>\n",
       "  <tbody>\n",
       "    <tr>\n",
       "      <th>0.0</th>\n",
       "      <td>0</td>\n",
       "      <td>0</td>\n",
       "      <td>0</td>\n",
       "      <td>2</td>\n",
       "      <td>0</td>\n",
       "      <td>0</td>\n",
       "      <td>0</td>\n",
       "      <td>1</td>\n",
       "      <td>1</td>\n",
       "    </tr>\n",
       "    <tr>\n",
       "      <th>1.0</th>\n",
       "      <td>0</td>\n",
       "      <td>2</td>\n",
       "      <td>1</td>\n",
       "      <td>0</td>\n",
       "      <td>1</td>\n",
       "      <td>0</td>\n",
       "      <td>0</td>\n",
       "      <td>0</td>\n",
       "      <td>0</td>\n",
       "    </tr>\n",
       "    <tr>\n",
       "      <th>2.0</th>\n",
       "      <td>1</td>\n",
       "      <td>0</td>\n",
       "      <td>0</td>\n",
       "      <td>0</td>\n",
       "      <td>1</td>\n",
       "      <td>0</td>\n",
       "      <td>1</td>\n",
       "      <td>0</td>\n",
       "      <td>0</td>\n",
       "    </tr>\n",
       "    <tr>\n",
       "      <th>3.0</th>\n",
       "      <td>1</td>\n",
       "      <td>1</td>\n",
       "      <td>0</td>\n",
       "      <td>0</td>\n",
       "      <td>1</td>\n",
       "      <td>1</td>\n",
       "      <td>0</td>\n",
       "      <td>0</td>\n",
       "      <td>0</td>\n",
       "    </tr>\n",
       "    <tr>\n",
       "      <th>4.0</th>\n",
       "      <td>0</td>\n",
       "      <td>0</td>\n",
       "      <td>1</td>\n",
       "      <td>1</td>\n",
       "      <td>0</td>\n",
       "      <td>0</td>\n",
       "      <td>0</td>\n",
       "      <td>0</td>\n",
       "      <td>0</td>\n",
       "    </tr>\n",
       "    <tr>\n",
       "      <th>6.0</th>\n",
       "      <td>0</td>\n",
       "      <td>1</td>\n",
       "      <td>0</td>\n",
       "      <td>1</td>\n",
       "      <td>0</td>\n",
       "      <td>0</td>\n",
       "      <td>0</td>\n",
       "      <td>0</td>\n",
       "      <td>0</td>\n",
       "    </tr>\n",
       "  </tbody>\n",
       "</table>\n",
       "</div>"
      ],
      "text/plain": [
       "Study    1.0   2.0   3.0   4.0   5.0   6.0   7.0   8.0   12.0\n",
       "numSibs                                                      \n",
       "0.0         0     0     0     2     0     0     0     1     1\n",
       "1.0         0     2     1     0     1     0     0     0     0\n",
       "2.0         1     0     0     0     1     0     1     0     0\n",
       "3.0         1     1     0     0     1     1     0     0     0\n",
       "4.0         0     0     1     1     0     0     0     0     0\n",
       "6.0         0     1     0     1     0     0     0     0     0"
      ]
     },
     "execution_count": 22,
     "metadata": {},
     "output_type": "execute_result"
    },
    {
     "name": "stdout",
     "output_type": "stream",
     "text": [
      "chi square value:  37.34027777777779\n",
      "degree of freedom:  40\n",
      "for 40 degree of freedom, the chi-square valued needed to reject the hypothesis at the 0.05 significance level:\n"
     ]
    },
    {
     "data": {
      "text/plain": [
       "55.75847927888702"
      ]
     },
     "execution_count": 22,
     "metadata": {},
     "output_type": "execute_result"
    }
   ],
   "source": [
    "t2 = pd.crosstab(x2,y2)\n",
    "t2\n",
    "chi, p, dfree, expected = chi2_contingency(t2)\n",
    "print(\"chi square value: \" ,chi)\n",
    "#print(\"p value: \", p)\n",
    "print(\"degree of freedom: \", dfree)\n",
    "#print(\"expected frequencies when story type and gender is independent: \", expected)\n",
    "print(\"for 40 degree of freedom, the chi-square valued needed to reject the hypothesis at the 0.05 significance level:\")\n",
    "chi2.ppf(0.95, 40)"
   ]
  },
  {
   "cell_type": "markdown",
   "id": "b8b69cf6-4352-4bb8-a0fc-4b8cf4432ba3",
   "metadata": {},
   "source": [
    "Hypothesis #3 correlation analysis"
   ]
  },
  {
   "cell_type": "code",
   "execution_count": 23,
   "id": "24741163-1092-448d-bfb6-1d2a266b0a10",
   "metadata": {},
   "outputs": [
    {
     "data": {
      "text/plain": [
       "-0.1067582506516477"
      ]
     },
     "execution_count": 23,
     "metadata": {},
     "output_type": "execute_result"
    }
   ],
   "source": [
    "x3 = df3.numSibs\n",
    "y3 = df3[\"Social Media\"]\n",
    "r3 = np.corrcoef(x3, y3)\n",
    "r3[0,1]"
   ]
  },
  {
   "cell_type": "markdown",
   "id": "b5f54473-6a09-4fb4-a639-b38abb44e3e3",
   "metadata": {},
   "source": [
    "Hypothesis#3 chi-squared test"
   ]
  },
  {
   "cell_type": "code",
   "execution_count": 24,
   "id": "21b2c6c3-09ab-446d-8df9-33b4238e3809",
   "metadata": {},
   "outputs": [
    {
     "data": {
      "text/html": [
       "<div>\n",
       "<style scoped>\n",
       "    .dataframe tbody tr th:only-of-type {\n",
       "        vertical-align: middle;\n",
       "    }\n",
       "\n",
       "    .dataframe tbody tr th {\n",
       "        vertical-align: top;\n",
       "    }\n",
       "\n",
       "    .dataframe thead th {\n",
       "        text-align: right;\n",
       "    }\n",
       "</style>\n",
       "<table border=\"1\" class=\"dataframe\">\n",
       "  <thead>\n",
       "    <tr style=\"text-align: right;\">\n",
       "      <th>Social Media</th>\n",
       "      <th>0.0</th>\n",
       "      <th>1.0</th>\n",
       "      <th>2.0</th>\n",
       "      <th>3.0</th>\n",
       "      <th>4.0</th>\n",
       "      <th>5.0</th>\n",
       "      <th>7.0</th>\n",
       "      <th>12.0</th>\n",
       "      <th>15.0</th>\n",
       "    </tr>\n",
       "    <tr>\n",
       "      <th>numSibs</th>\n",
       "      <th></th>\n",
       "      <th></th>\n",
       "      <th></th>\n",
       "      <th></th>\n",
       "      <th></th>\n",
       "      <th></th>\n",
       "      <th></th>\n",
       "      <th></th>\n",
       "      <th></th>\n",
       "    </tr>\n",
       "  </thead>\n",
       "  <tbody>\n",
       "    <tr>\n",
       "      <th>0.0</th>\n",
       "      <td>1</td>\n",
       "      <td>2</td>\n",
       "      <td>4</td>\n",
       "      <td>2</td>\n",
       "      <td>0</td>\n",
       "      <td>0</td>\n",
       "      <td>1</td>\n",
       "      <td>1</td>\n",
       "      <td>0</td>\n",
       "    </tr>\n",
       "    <tr>\n",
       "      <th>1.0</th>\n",
       "      <td>1</td>\n",
       "      <td>9</td>\n",
       "      <td>5</td>\n",
       "      <td>3</td>\n",
       "      <td>3</td>\n",
       "      <td>2</td>\n",
       "      <td>0</td>\n",
       "      <td>1</td>\n",
       "      <td>1</td>\n",
       "    </tr>\n",
       "    <tr>\n",
       "      <th>2.0</th>\n",
       "      <td>1</td>\n",
       "      <td>4</td>\n",
       "      <td>5</td>\n",
       "      <td>1</td>\n",
       "      <td>0</td>\n",
       "      <td>0</td>\n",
       "      <td>0</td>\n",
       "      <td>0</td>\n",
       "      <td>0</td>\n",
       "    </tr>\n",
       "    <tr>\n",
       "      <th>3.0</th>\n",
       "      <td>0</td>\n",
       "      <td>1</td>\n",
       "      <td>1</td>\n",
       "      <td>0</td>\n",
       "      <td>0</td>\n",
       "      <td>0</td>\n",
       "      <td>0</td>\n",
       "      <td>0</td>\n",
       "      <td>0</td>\n",
       "    </tr>\n",
       "    <tr>\n",
       "      <th>4.0</th>\n",
       "      <td>0</td>\n",
       "      <td>1</td>\n",
       "      <td>0</td>\n",
       "      <td>0</td>\n",
       "      <td>1</td>\n",
       "      <td>1</td>\n",
       "      <td>0</td>\n",
       "      <td>0</td>\n",
       "      <td>0</td>\n",
       "    </tr>\n",
       "    <tr>\n",
       "      <th>8.0</th>\n",
       "      <td>0</td>\n",
       "      <td>0</td>\n",
       "      <td>1</td>\n",
       "      <td>0</td>\n",
       "      <td>0</td>\n",
       "      <td>0</td>\n",
       "      <td>0</td>\n",
       "      <td>0</td>\n",
       "      <td>0</td>\n",
       "    </tr>\n",
       "  </tbody>\n",
       "</table>\n",
       "</div>"
      ],
      "text/plain": [
       "Social Media  0.0   1.0   2.0   3.0   4.0   5.0   7.0   12.0  15.0\n",
       "numSibs                                                           \n",
       "0.0              1     2     4     2     0     0     1     1     0\n",
       "1.0              1     9     5     3     3     2     0     1     1\n",
       "2.0              1     4     5     1     0     0     0     0     0\n",
       "3.0              0     1     1     0     0     0     0     0     0\n",
       "4.0              0     1     0     0     1     1     0     0     0\n",
       "8.0              0     0     1     0     0     0     0     0     0"
      ]
     },
     "execution_count": 24,
     "metadata": {},
     "output_type": "execute_result"
    },
    {
     "name": "stdout",
     "output_type": "stream",
     "text": [
      "chi square value:  25.418940136660726\n",
      "degree of freedom:  40\n",
      "for 40 degree of freedom, the chi-square valued needed to reject the hypothesis at the 0.05 significance level:\n"
     ]
    },
    {
     "data": {
      "text/plain": [
       "55.75847927888702"
      ]
     },
     "execution_count": 24,
     "metadata": {},
     "output_type": "execute_result"
    }
   ],
   "source": [
    "t3 = pd.crosstab(x3,y3)\n",
    "t3\n",
    "chi, p, dfree, expected = chi2_contingency(t3)\n",
    "print(\"chi square value: \" ,chi)\n",
    "#print(\"p value: \", p)\n",
    "print(\"degree of freedom: \", dfree)\n",
    "#print(\"expected frequencies when story type and gender is independent: \", expected)\n",
    "print(\"for 40 degree of freedom, the chi-square valued needed to reject the hypothesis at the 0.05 significance level:\")\n",
    "chi2.ppf(0.95, 40)"
   ]
  },
  {
   "cell_type": "markdown",
   "id": "d75c0c00-d597-4f4e-9107-67ad1ba4e90f",
   "metadata": {},
   "source": [
    "Conclusion: Based off correlation analysis, we find that there is little to no correlation for hypothesis' #1 and #3, and as expected, both fail the chi-squared test. For hypothesis #2, we can see there is a slight negative correlation; however, from the chi-squared test, we find that it is possible that the result isn't significant and just due to random chance since the chi square value is lower significant chi-squared value."
   ]
  },
  {
   "cell_type": "code",
   "execution_count": null,
   "id": "17c7f6b6-50df-40be-a3a9-23226eab7014",
   "metadata": {},
   "outputs": [],
   "source": []
  }
 ],
 "metadata": {
  "kernelspec": {
   "display_name": "Python 3 (ipykernel)",
   "language": "python",
   "name": "python3"
  },
  "language_info": {
   "codemirror_mode": {
    "name": "ipython",
    "version": 3
   },
   "file_extension": ".py",
   "mimetype": "text/x-python",
   "name": "python",
   "nbconvert_exporter": "python",
   "pygments_lexer": "ipython3",
   "version": "3.9.7"
  }
 },
 "nbformat": 4,
 "nbformat_minor": 5
}
