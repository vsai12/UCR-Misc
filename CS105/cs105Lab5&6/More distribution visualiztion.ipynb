{
 "cells": [
  {
   "cell_type": "code",
   "execution_count": 70,
   "id": "241fb1f0-0ee4-4ef5-b4dd-8f61200834e3",
   "metadata": {},
   "outputs": [],
   "source": [
    "import pandas as pd\n",
    "import matplotlib.pyplot as plt\n",
    "import numpy as np\n",
    "import seaborn as sns\n",
    "import scipy\n",
    "\n",
    "# from IPython.core.interactiveshell import InteractiveShell\n",
    "# InteractiveShell.ast_node_interactivity = \"all\""
   ]
  },
  {
   "cell_type": "markdown",
   "id": "6a71db90-365f-4429-ba99-ed32345584c3",
   "metadata": {},
   "source": [
    "# Visualization about distribution"
   ]
  },
  {
   "cell_type": "markdown",
   "id": "bad8f80f-d8dc-4d87-bb73-e8d99e3fcffc",
   "metadata": {},
   "source": [
    "We can use bar-plot, box-plot, heatmaps to show the distribution of the discrete values. And we can use the histogrm and line-plot to show the distribution of the variable with continouous values. "
   ]
  },
  {
   "cell_type": "code",
   "execution_count": 93,
   "id": "ac87c142-fbe2-4a7f-bfae-c5b29ed72b79",
   "metadata": {},
   "outputs": [
    {
     "data": {
      "image/png": "[encoded data removed]",
      "text/plain": [
       "<Figure size 576x576 with 4 Axes>"
      ]
     },
     "metadata": {
      "needs_background": "light"
     },
     "output_type": "display_data"
    }
   ],
   "source": [
    "x = np.random.normal(0, 1, 1000)\n",
    "data= pd.DataFrame({\"a\":x})\n",
    "\n",
    "fig, axs = plt.subplots(2, 2,figsize=(8,8))\n",
    "fig.tight_layout(pad=4.0)\n",
    "\n",
    "# data.hist()\n",
    "\n",
    "# plot the density on the left upper position\n",
    "a = axs[0,0].hist(data.a, bins=12, density = True,color = 'pink', label=\"a\")\n",
    "axs[0,0].set_title(\"Density\")\n",
    "axs[0,0].set_xlabel('a')\n",
    "axs[0,0].set_ylabel('probability')\n",
    "# display(a)\n",
    "\n",
    "# plot the frequency on the right upper position\n",
    "axs[0,1].hist(data.a, bins=[-3, -2.5, -2.0, -1.5, -1.0, -0.5, 0, 0.5, 1.0, 1.5, 2.0, 2.5, 3], label= \"a\")\n",
    "axs[0,1].set_title(\"Frequency\")\n",
    "axs[0,1].set_xlabel('a')\n",
    "axs[0,1].set_ylabel('frequency')\n",
    "\n",
    "\n",
    "# approximate the data distribution with line plot at the left lower distribution\n",
    "\n",
    "sns.kdeplot(data[\"a\"], fill=True, common_norm=False, palette=\"crest\",\n",
    "   linewidth=0, ax = axs[1,0])\n",
    "axs[1,0].set_title(\"Density approximation\")\n",
    "axs[1,0].set_xlabel(\"a\")\n",
    "\n",
    "# sns.displot(x, kde=True)\n",
    "\n",
    "# Use a normal distirbution to fit my data\n",
    "axs[1,1] = sns.histplot(x, kde=False, stat='density', color = \"orange\", linewidth=0, label=\"sample\")\n",
    "x0, x1 = axs[1,1].get_xlim() \n",
    "x_pdf = np.linspace(x0, x1, 1000)\n",
    "y_pdf = scipy.stats.norm.pdf(x_pdf)\n",
    "# display(y_pdf)\n",
    "axs[1,1].plot(x_pdf, y_pdf, 'r', lw = 0.8, label='pdf',)                                                   \n",
    "axs[1,1].legend()\n",
    "\n",
    "plt.show()"
   ]
  },
  {
   "cell_type": "markdown",
   "id": "d806a6d2-42a1-4df2-a3c3-4b975e851f6a",
   "metadata": {},
   "source": [
    "# More about data cleaning"
   ]
  },
  {
   "cell_type": "code",
   "execution_count": null,
   "id": "30e8a7e8-d4be-49da-9587-0d9c5da8e36c",
   "metadata": {},
   "outputs": [],
   "source": []
  },
  {
   "cell_type": "code",
   "execution_count": 3,
   "id": "1c983fea-645b-4b19-a16e-9a78ac96fb52",
   "metadata": {},
   "outputs": [
    {
     "data": {
      "text/html": [
       "<div>\n",
       "<style scoped>\n",
       "    .dataframe tbody tr th:only-of-type {\n",
       "        vertical-align: middle;\n",
       "    }\n",
       "\n",
       "    .dataframe tbody tr th {\n",
       "        vertical-align: top;\n",
       "    }\n",
       "\n",
       "    .dataframe thead th {\n",
       "        text-align: right;\n",
       "    }\n",
       "</style>\n",
       "<table border=\"1\" class=\"dataframe\">\n",
       "  <thead>\n",
       "    <tr style=\"text-align: right;\">\n",
       "      <th></th>\n",
       "      <th>a</th>\n",
       "      <th>score1</th>\n",
       "      <th>score2</th>\n",
       "      <th>score3</th>\n",
       "    </tr>\n",
       "  </thead>\n",
       "  <tbody>\n",
       "    <tr>\n",
       "      <th>0</th>\n",
       "      <td>50-a</td>\n",
       "      <td>good</td>\n",
       "      <td>bad</td>\n",
       "      <td>bad</td>\n",
       "    </tr>\n",
       "    <tr>\n",
       "      <th>1</th>\n",
       "      <td>4-2</td>\n",
       "      <td>fair</td>\n",
       "      <td>good</td>\n",
       "      <td>fair</td>\n",
       "    </tr>\n",
       "    <tr>\n",
       "      <th>2</th>\n",
       "      <td>2-b</td>\n",
       "      <td>bad</td>\n",
       "      <td>bad</td>\n",
       "      <td>good</td>\n",
       "    </tr>\n",
       "    <tr>\n",
       "      <th>3</th>\n",
       "      <td>s-2</td>\n",
       "      <td>bad</td>\n",
       "      <td>bad</td>\n",
       "      <td>bad</td>\n",
       "    </tr>\n",
       "  </tbody>\n",
       "</table>\n",
       "</div>"
      ],
      "text/plain": [
       "      a score1 score2 score3\n",
       "0  50-a   good    bad    bad\n",
       "1   4-2   fair   good   fair\n",
       "2   2-b    bad    bad   good\n",
       "3   s-2    bad    bad    bad"
      ]
     },
     "execution_count": 3,
     "metadata": {},
     "output_type": "execute_result"
    }
   ],
   "source": [
    "# create a dataframe\n",
    "r = pd.DataFrame({'a':[\"50-a\",\"4-2\",\"2-b\",\"s-2\"],'score1':['good','fair','bad','bad'],'score2':['bad','good','bad','bad'],'score3':['bad','fair','good','bad']})\n",
    "\n",
    "r"
   ]
  },
  {
   "cell_type": "code",
   "execution_count": 4,
   "id": "a44704d1-afb6-4050-a874-a9f3799d735f",
   "metadata": {},
   "outputs": [
    {
     "data": {
      "text/html": [
       "<div>\n",
       "<style scoped>\n",
       "    .dataframe tbody tr th:only-of-type {\n",
       "        vertical-align: middle;\n",
       "    }\n",
       "\n",
       "    .dataframe tbody tr th {\n",
       "        vertical-align: top;\n",
       "    }\n",
       "\n",
       "    .dataframe thead th {\n",
       "        text-align: right;\n",
       "    }\n",
       "</style>\n",
       "<table border=\"1\" class=\"dataframe\">\n",
       "  <thead>\n",
       "    <tr style=\"text-align: right;\">\n",
       "      <th></th>\n",
       "      <th>a</th>\n",
       "      <th>score1</th>\n",
       "      <th>score2</th>\n",
       "      <th>score3</th>\n",
       "      <th>score1_num</th>\n",
       "      <th>good</th>\n",
       "      <th>not-good</th>\n",
       "    </tr>\n",
       "  </thead>\n",
       "  <tbody>\n",
       "    <tr>\n",
       "      <th>0</th>\n",
       "      <td>50-a</td>\n",
       "      <td>good</td>\n",
       "      <td>0</td>\n",
       "      <td>bad</td>\n",
       "      <td>2</td>\n",
       "      <td>True</td>\n",
       "      <td>False</td>\n",
       "    </tr>\n",
       "    <tr>\n",
       "      <th>1</th>\n",
       "      <td>4-2</td>\n",
       "      <td>fair</td>\n",
       "      <td>2</td>\n",
       "      <td>fair</td>\n",
       "      <td>1</td>\n",
       "      <td>True</td>\n",
       "      <td>True</td>\n",
       "    </tr>\n",
       "    <tr>\n",
       "      <th>2</th>\n",
       "      <td>2-b</td>\n",
       "      <td>bad</td>\n",
       "      <td>0</td>\n",
       "      <td>good</td>\n",
       "      <td>0</td>\n",
       "      <td>True</td>\n",
       "      <td>False</td>\n",
       "    </tr>\n",
       "    <tr>\n",
       "      <th>3</th>\n",
       "      <td>s-2</td>\n",
       "      <td>bad</td>\n",
       "      <td>0</td>\n",
       "      <td>bad</td>\n",
       "      <td>0</td>\n",
       "      <td>False</td>\n",
       "      <td>True</td>\n",
       "    </tr>\n",
       "  </tbody>\n",
       "</table>\n",
       "</div>"
      ],
      "text/plain": [
       "      a score1  score2 score3  score1_num   good  not-good\n",
       "0  50-a   good       0    bad           2   True     False\n",
       "1   4-2   fair       2   fair           1   True      True\n",
       "2   2-b    bad       0   good           0   True     False\n",
       "3   s-2    bad       0    bad           0  False      True"
      ]
     },
     "execution_count": 4,
     "metadata": {},
     "output_type": "execute_result"
    }
   ],
   "source": [
    "# map discrete labels to numeric values\n",
    "r['score1_num'] = r['score1'].map( {'good': 2, 'fair': 1, 'bad':0} ).astype(int)\n",
    "temp_dict = {'good': 2, 'fair': 1, 'bad':0}\n",
    "\n",
    "# Directly replace labels with numeric values\n",
    "r = r.replace({\"score2\":{'good': 2, 'fair': 1, 'bad':0}})\n",
    "\n",
    "# Use logical orperators to select rows \n",
    "r[\"good\"] = r['score1'].isin([\"good\",\"fair\"]) | r['score3'].isin([\"good\",\"fair\"])\n",
    "r['not-good']  = r['score1'].isin([\"bad\",\"fair\"]) & r['score3'].isin([\"bad\",\"fair\"])\n",
    "r"
   ]
  },
  {
   "cell_type": "code",
   "execution_count": 5,
   "id": "65140bd0-5e4d-4214-ae8e-24e4713f540d",
   "metadata": {},
   "outputs": [
    {
     "data": {
      "text/html": [
       "<div>\n",
       "<style scoped>\n",
       "    .dataframe tbody tr th:only-of-type {\n",
       "        vertical-align: middle;\n",
       "    }\n",
       "\n",
       "    .dataframe tbody tr th {\n",
       "        vertical-align: top;\n",
       "    }\n",
       "\n",
       "    .dataframe thead th {\n",
       "        text-align: right;\n",
       "    }\n",
       "</style>\n",
       "<table border=\"1\" class=\"dataframe\">\n",
       "  <thead>\n",
       "    <tr style=\"text-align: right;\">\n",
       "      <th></th>\n",
       "      <th>a</th>\n",
       "      <th>score1</th>\n",
       "      <th>score2</th>\n",
       "      <th>score3</th>\n",
       "      <th>score1_num</th>\n",
       "      <th>good</th>\n",
       "      <th>not-good</th>\n",
       "      <th>Title</th>\n",
       "    </tr>\n",
       "  </thead>\n",
       "  <tbody>\n",
       "    <tr>\n",
       "      <th>0</th>\n",
       "      <td>50-a</td>\n",
       "      <td>good</td>\n",
       "      <td>0</td>\n",
       "      <td>bad</td>\n",
       "      <td>2</td>\n",
       "      <td>True</td>\n",
       "      <td>False</td>\n",
       "      <td>50</td>\n",
       "    </tr>\n",
       "    <tr>\n",
       "      <th>1</th>\n",
       "      <td>4-2</td>\n",
       "      <td>fair</td>\n",
       "      <td>2</td>\n",
       "      <td>fair</td>\n",
       "      <td>1</td>\n",
       "      <td>True</td>\n",
       "      <td>True</td>\n",
       "      <td>NaN</td>\n",
       "    </tr>\n",
       "    <tr>\n",
       "      <th>2</th>\n",
       "      <td>2-b</td>\n",
       "      <td>bad</td>\n",
       "      <td>0</td>\n",
       "      <td>good</td>\n",
       "      <td>0</td>\n",
       "      <td>True</td>\n",
       "      <td>False</td>\n",
       "      <td>2</td>\n",
       "    </tr>\n",
       "    <tr>\n",
       "      <th>3</th>\n",
       "      <td>s-2</td>\n",
       "      <td>bad</td>\n",
       "      <td>0</td>\n",
       "      <td>bad</td>\n",
       "      <td>0</td>\n",
       "      <td>False</td>\n",
       "      <td>True</td>\n",
       "      <td>NaN</td>\n",
       "    </tr>\n",
       "  </tbody>\n",
       "</table>\n",
       "</div>"
      ],
      "text/plain": [
       "      a score1  score2 score3  score1_num   good  not-good Title\n",
       "0  50-a   good       0    bad           2   True     False    50\n",
       "1   4-2   fair       2   fair           1   True      True   NaN\n",
       "2   2-b    bad       0   good           0   True     False     2\n",
       "3   s-2    bad       0    bad           0  False      True   NaN"
      ]
     },
     "execution_count": 5,
     "metadata": {},
     "output_type": "execute_result"
    }
   ],
   "source": [
    "# extract pattens as the integar follow by \"-\" and alphabets\n",
    "r['Title'] = r['a'].str.extract('(\\d+)-[a-z]+', expand=False)\n",
    "r"
   ]
  },
  {
   "cell_type": "code",
   "execution_count": null,
   "id": "5f9010cf-b3a1-431d-bf22-b9bff6514890",
   "metadata": {},
   "outputs": [],
   "source": []
  }
 ],
 "metadata": {
  "kernelspec": {
   "display_name": "Python 3 (ipykernel)",
   "language": "python",
   "name": "python3"
  },
  "language_info": {
   "codemirror_mode": {
    "name": "ipython",
    "version": 3
   },
   "file_extension": ".py",
   "mimetype": "text/x-python",
   "name": "python",
   "nbconvert_exporter": "python",
   "pygments_lexer": "ipython3",
   "version": "3.9.7"
  }
 },
 "nbformat": 4,
 "nbformat_minor": 5
}
